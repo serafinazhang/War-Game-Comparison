{
  "nbformat": 4,
  "nbformat_minor": 0,
  "metadata": {
    "colab": {
      "name": "COIN Series Comparison.ipynb",
      "provenance": [],
      "authorship_tag": "ABX9TyMl5OkKeMcWOkB0VzkvQ/nC",
      "include_colab_link": true
    },
    "kernelspec": {
      "name": "python3",
      "display_name": "Python 3"
    },
    "language_info": {
      "name": "python"
    }
  },
  "cells": [
    {
      "cell_type": "markdown",
      "metadata": {
        "id": "view-in-github",
        "colab_type": "text"
      },
      "source": [
        "<a href=\"https://colab.research.google.com/github/serafinazhang/War-Game-Comparison/blob/main/COIN_Series_Comparison.ipynb\" target=\"_parent\"><img src=\"https://colab.research.google.com/assets/colab-badge.svg\" alt=\"Open In Colab\"/></a>"
      ]
    },
    {
      "cell_type": "markdown",
      "source": [
        "# **COIN Series Comparison**"
      ],
      "metadata": {
        "id": "Ogr6BY6UU2tt"
      }
    },
    {
      "cell_type": "code",
      "metadata": {
        "id": "dh8ei59kWjSe"
      },
      "source": [
        "import pandas as pd\n",
        "import numpy as np\n",
        "from collections import defaultdict, Counter\n",
        "import matplotlib.pyplot as plt \n",
        "from google.colab import files, drive\n",
        "import math\n",
        "import os\n",
        "from scipy.linalg import svd\n",
        "from pathlib import Path\n",
        "import seaborn as sns\n",
        "from sklearn.feature_extraction.text import TfidfVectorizer\n",
        "from sklearn.decomposition import PCA\n",
        "from sklearn.cross_decomposition import CCA\n",
        "from sklearn.preprocessing import StandardScaler"
      ],
      "execution_count": null,
      "outputs": []
    },
    {
      "cell_type": "code",
      "source": [
        "!pip install pdfplumber\n",
        "import pdfplumber"
      ],
      "metadata": {
        "colab": {
          "base_uri": "https://localhost:8080/",
          "height": 683
        },
        "id": "yRDR5c5oRRo5",
        "outputId": "10d3d57f-e2dd-4c76-9d04-9470d7c54f18"
      },
      "execution_count": null,
      "outputs": [
        {
          "output_type": "stream",
          "name": "stdout",
          "text": [
            "Collecting pdfplumber\n",
            "  Downloading pdfplumber-0.6.0.tar.gz (46 kB)\n",
            "\u001b[K     |████████████████████████████████| 46 kB 2.1 MB/s \n",
            "\u001b[?25hCollecting pdfminer.six==20211012\n",
            "  Downloading pdfminer.six-20211012-py3-none-any.whl (5.6 MB)\n",
            "\u001b[K     |████████████████████████████████| 5.6 MB 6.3 MB/s \n",
            "\u001b[?25hCollecting Pillow>=8.4\n",
            "  Downloading Pillow-8.4.0-cp37-cp37m-manylinux_2_17_x86_64.manylinux2014_x86_64.whl (3.1 MB)\n",
            "\u001b[K     |████████████████████████████████| 3.1 MB 42.1 MB/s \n",
            "\u001b[?25hCollecting Wand>=0.6.7\n",
            "  Downloading Wand-0.6.7-py2.py3-none-any.whl (139 kB)\n",
            "\u001b[K     |████████████████████████████████| 139 kB 47.6 MB/s \n",
            "\u001b[?25hRequirement already satisfied: chardet in /usr/local/lib/python3.7/dist-packages (from pdfminer.six==20211012->pdfplumber) (3.0.4)\n",
            "Collecting cryptography\n",
            "  Downloading cryptography-36.0.1-cp36-abi3-manylinux_2_24_x86_64.whl (3.6 MB)\n",
            "\u001b[K     |████████████████████████████████| 3.6 MB 35.6 MB/s \n",
            "\u001b[?25hRequirement already satisfied: cffi>=1.12 in /usr/local/lib/python3.7/dist-packages (from cryptography->pdfminer.six==20211012->pdfplumber) (1.15.0)\n",
            "Requirement already satisfied: pycparser in /usr/local/lib/python3.7/dist-packages (from cffi>=1.12->cryptography->pdfminer.six==20211012->pdfplumber) (2.21)\n",
            "Building wheels for collected packages: pdfplumber\n",
            "  Building wheel for pdfplumber (setup.py) ... \u001b[?25l\u001b[?25hdone\n",
            "  Created wheel for pdfplumber: filename=pdfplumber-0.6.0-py3-none-any.whl size=33688 sha256=0af779e5281a1d9adad466b9383b89db516233e01961af194939a554625112ec\n",
            "  Stored in directory: /root/.cache/pip/wheels/58/56/fe/2e93d842ffa9ea97746c1ab253d43502ed61c0689361a0224e\n",
            "Successfully built pdfplumber\n",
            "Installing collected packages: cryptography, Wand, Pillow, pdfminer.six, pdfplumber\n",
            "  Attempting uninstall: Pillow\n",
            "    Found existing installation: Pillow 7.1.2\n",
            "    Uninstalling Pillow-7.1.2:\n",
            "      Successfully uninstalled Pillow-7.1.2\n",
            "\u001b[31mERROR: pip's dependency resolver does not currently take into account all the packages that are installed. This behaviour is the source of the following dependency conflicts.\n",
            "albumentations 0.1.12 requires imgaug<0.2.7,>=0.2.5, but you have imgaug 0.2.9 which is incompatible.\u001b[0m\n",
            "Successfully installed Pillow-8.4.0 Wand-0.6.7 cryptography-36.0.1 pdfminer.six-20211012 pdfplumber-0.6.0\n"
          ]
        },
        {
          "output_type": "display_data",
          "data": {
            "application/vnd.colab-display-data+json": {
              "pip_warning": {
                "packages": [
                  "PIL"
                ]
              }
            }
          },
          "metadata": {}
        }
      ]
    },
    {
      "cell_type": "code",
      "metadata": {
        "colab": {
          "base_uri": "https://localhost:8080/"
        },
        "id": "53XwWh0-WjSf",
        "outputId": "a667bf30-8d13-48c6-827e-cde9ee610cad"
      },
      "source": [
        "drive.mount('/content/drive')"
      ],
      "execution_count": null,
      "outputs": [
        {
          "output_type": "stream",
          "name": "stdout",
          "text": [
            "Mounted at /content/drive\n"
          ]
        }
      ]
    },
    {
      "cell_type": "code",
      "metadata": {
        "id": "CtfUWfV3WjSf",
        "colab": {
          "base_uri": "https://localhost:8080/"
        },
        "collapsed": true,
        "outputId": "773d1270-57b9-4d88-cab0-9d6910e95d3b"
      },
      "source": [
        "!pip install nltk\n",
        "import nltk \n",
        "nltk.download(\"all\") \n",
        "from nltk import sent_tokenize\n",
        "from nltk.corpus import stopwords, wordnet\n",
        "from nltk.tokenize import word_tokenize\n",
        "from nltk.stem import WordNetLemmatizer "
      ],
      "execution_count": null,
      "outputs": [
        {
          "output_type": "stream",
          "name": "stdout",
          "text": [
            "Requirement already satisfied: nltk in /usr/local/lib/python3.7/dist-packages (3.2.5)\n",
            "Requirement already satisfied: six in /usr/local/lib/python3.7/dist-packages (from nltk) (1.15.0)\n",
            "[nltk_data] Downloading collection 'all'\n",
            "[nltk_data]    | \n",
            "[nltk_data]    | Downloading package abc to /root/nltk_data...\n",
            "[nltk_data]    |   Unzipping corpora/abc.zip.\n",
            "[nltk_data]    | Downloading package alpino to /root/nltk_data...\n",
            "[nltk_data]    |   Unzipping corpora/alpino.zip.\n",
            "[nltk_data]    | Downloading package biocreative_ppi to\n",
            "[nltk_data]    |     /root/nltk_data...\n",
            "[nltk_data]    |   Unzipping corpora/biocreative_ppi.zip.\n",
            "[nltk_data]    | Downloading package brown to /root/nltk_data...\n",
            "[nltk_data]    |   Unzipping corpora/brown.zip.\n",
            "[nltk_data]    | Downloading package brown_tei to /root/nltk_data...\n",
            "[nltk_data]    |   Unzipping corpora/brown_tei.zip.\n",
            "[nltk_data]    | Downloading package cess_cat to /root/nltk_data...\n",
            "[nltk_data]    |   Unzipping corpora/cess_cat.zip.\n",
            "[nltk_data]    | Downloading package cess_esp to /root/nltk_data...\n",
            "[nltk_data]    |   Unzipping corpora/cess_esp.zip.\n",
            "[nltk_data]    | Downloading package chat80 to /root/nltk_data...\n",
            "[nltk_data]    |   Unzipping corpora/chat80.zip.\n",
            "[nltk_data]    | Downloading package city_database to\n",
            "[nltk_data]    |     /root/nltk_data...\n",
            "[nltk_data]    |   Unzipping corpora/city_database.zip.\n",
            "[nltk_data]    | Downloading package cmudict to /root/nltk_data...\n",
            "[nltk_data]    |   Unzipping corpora/cmudict.zip.\n",
            "[nltk_data]    | Downloading package comparative_sentences to\n",
            "[nltk_data]    |     /root/nltk_data...\n",
            "[nltk_data]    |   Unzipping corpora/comparative_sentences.zip.\n",
            "[nltk_data]    | Downloading package comtrans to /root/nltk_data...\n",
            "[nltk_data]    | Downloading package conll2000 to /root/nltk_data...\n",
            "[nltk_data]    |   Unzipping corpora/conll2000.zip.\n",
            "[nltk_data]    | Downloading package conll2002 to /root/nltk_data...\n",
            "[nltk_data]    |   Unzipping corpora/conll2002.zip.\n",
            "[nltk_data]    | Downloading package conll2007 to /root/nltk_data...\n",
            "[nltk_data]    | Downloading package crubadan to /root/nltk_data...\n",
            "[nltk_data]    |   Unzipping corpora/crubadan.zip.\n",
            "[nltk_data]    | Downloading package dependency_treebank to\n",
            "[nltk_data]    |     /root/nltk_data...\n",
            "[nltk_data]    |   Unzipping corpora/dependency_treebank.zip.\n",
            "[nltk_data]    | Downloading package dolch to /root/nltk_data...\n",
            "[nltk_data]    |   Unzipping corpora/dolch.zip.\n",
            "[nltk_data]    | Downloading package europarl_raw to\n",
            "[nltk_data]    |     /root/nltk_data...\n",
            "[nltk_data]    |   Unzipping corpora/europarl_raw.zip.\n",
            "[nltk_data]    | Downloading package floresta to /root/nltk_data...\n",
            "[nltk_data]    |   Unzipping corpora/floresta.zip.\n",
            "[nltk_data]    | Downloading package framenet_v15 to\n",
            "[nltk_data]    |     /root/nltk_data...\n",
            "[nltk_data]    |   Unzipping corpora/framenet_v15.zip.\n",
            "[nltk_data]    | Downloading package framenet_v17 to\n",
            "[nltk_data]    |     /root/nltk_data...\n",
            "[nltk_data]    |   Unzipping corpora/framenet_v17.zip.\n",
            "[nltk_data]    | Downloading package gazetteers to /root/nltk_data...\n",
            "[nltk_data]    |   Unzipping corpora/gazetteers.zip.\n",
            "[nltk_data]    | Downloading package genesis to /root/nltk_data...\n",
            "[nltk_data]    |   Unzipping corpora/genesis.zip.\n",
            "[nltk_data]    | Downloading package gutenberg to /root/nltk_data...\n",
            "[nltk_data]    |   Unzipping corpora/gutenberg.zip.\n",
            "[nltk_data]    | Downloading package ieer to /root/nltk_data...\n",
            "[nltk_data]    |   Unzipping corpora/ieer.zip.\n",
            "[nltk_data]    | Downloading package inaugural to /root/nltk_data...\n",
            "[nltk_data]    |   Unzipping corpora/inaugural.zip.\n",
            "[nltk_data]    | Downloading package indian to /root/nltk_data...\n",
            "[nltk_data]    |   Unzipping corpora/indian.zip.\n",
            "[nltk_data]    | Downloading package jeita to /root/nltk_data...\n",
            "[nltk_data]    | Downloading package kimmo to /root/nltk_data...\n",
            "[nltk_data]    |   Unzipping corpora/kimmo.zip.\n",
            "[nltk_data]    | Downloading package knbc to /root/nltk_data...\n",
            "[nltk_data]    | Downloading package lin_thesaurus to\n",
            "[nltk_data]    |     /root/nltk_data...\n",
            "[nltk_data]    |   Unzipping corpora/lin_thesaurus.zip.\n",
            "[nltk_data]    | Downloading package mac_morpho to /root/nltk_data...\n",
            "[nltk_data]    |   Unzipping corpora/mac_morpho.zip.\n",
            "[nltk_data]    | Downloading package machado to /root/nltk_data...\n",
            "[nltk_data]    | Downloading package masc_tagged to /root/nltk_data...\n",
            "[nltk_data]    | Downloading package moses_sample to\n",
            "[nltk_data]    |     /root/nltk_data...\n",
            "[nltk_data]    |   Unzipping models/moses_sample.zip.\n",
            "[nltk_data]    | Downloading package movie_reviews to\n",
            "[nltk_data]    |     /root/nltk_data...\n",
            "[nltk_data]    |   Unzipping corpora/movie_reviews.zip.\n",
            "[nltk_data]    | Downloading package names to /root/nltk_data...\n",
            "[nltk_data]    |   Unzipping corpora/names.zip.\n",
            "[nltk_data]    | Downloading package nombank.1.0 to /root/nltk_data...\n",
            "[nltk_data]    | Downloading package nps_chat to /root/nltk_data...\n",
            "[nltk_data]    |   Unzipping corpora/nps_chat.zip.\n",
            "[nltk_data]    | Downloading package omw-1.4 to /root/nltk_data...\n",
            "[nltk_data]    |   Unzipping corpora/omw-1.4.zip.\n",
            "[nltk_data]    | Downloading package omw to /root/nltk_data...\n",
            "[nltk_data]    |   Unzipping corpora/omw.zip.\n",
            "[nltk_data]    | Downloading package opinion_lexicon to\n",
            "[nltk_data]    |     /root/nltk_data...\n",
            "[nltk_data]    |   Unzipping corpora/opinion_lexicon.zip.\n",
            "[nltk_data]    | Downloading package paradigms to /root/nltk_data...\n",
            "[nltk_data]    |   Unzipping corpora/paradigms.zip.\n",
            "[nltk_data]    | Downloading package pil to /root/nltk_data...\n",
            "[nltk_data]    |   Unzipping corpora/pil.zip.\n",
            "[nltk_data]    | Downloading package pl196x to /root/nltk_data...\n",
            "[nltk_data]    |   Unzipping corpora/pl196x.zip.\n",
            "[nltk_data]    | Downloading package ppattach to /root/nltk_data...\n",
            "[nltk_data]    |   Unzipping corpora/ppattach.zip.\n",
            "[nltk_data]    | Downloading package problem_reports to\n",
            "[nltk_data]    |     /root/nltk_data...\n",
            "[nltk_data]    |   Unzipping corpora/problem_reports.zip.\n",
            "[nltk_data]    | Downloading package propbank to /root/nltk_data...\n",
            "[nltk_data]    | Downloading package ptb to /root/nltk_data...\n",
            "[nltk_data]    |   Unzipping corpora/ptb.zip.\n",
            "[nltk_data]    | Downloading package product_reviews_1 to\n",
            "[nltk_data]    |     /root/nltk_data...\n",
            "[nltk_data]    |   Unzipping corpora/product_reviews_1.zip.\n",
            "[nltk_data]    | Downloading package product_reviews_2 to\n",
            "[nltk_data]    |     /root/nltk_data...\n",
            "[nltk_data]    |   Unzipping corpora/product_reviews_2.zip.\n",
            "[nltk_data]    | Downloading package pros_cons to /root/nltk_data...\n",
            "[nltk_data]    |   Unzipping corpora/pros_cons.zip.\n",
            "[nltk_data]    | Downloading package qc to /root/nltk_data...\n",
            "[nltk_data]    |   Unzipping corpora/qc.zip.\n",
            "[nltk_data]    | Downloading package reuters to /root/nltk_data...\n",
            "[nltk_data]    | Downloading package rte to /root/nltk_data...\n",
            "[nltk_data]    |   Unzipping corpora/rte.zip.\n",
            "[nltk_data]    | Downloading package semcor to /root/nltk_data...\n",
            "[nltk_data]    | Downloading package senseval to /root/nltk_data...\n",
            "[nltk_data]    |   Unzipping corpora/senseval.zip.\n",
            "[nltk_data]    | Downloading package sentiwordnet to\n",
            "[nltk_data]    |     /root/nltk_data...\n",
            "[nltk_data]    |   Unzipping corpora/sentiwordnet.zip.\n",
            "[nltk_data]    | Downloading package sentence_polarity to\n",
            "[nltk_data]    |     /root/nltk_data...\n",
            "[nltk_data]    |   Unzipping corpora/sentence_polarity.zip.\n",
            "[nltk_data]    | Downloading package shakespeare to /root/nltk_data...\n",
            "[nltk_data]    |   Unzipping corpora/shakespeare.zip.\n",
            "[nltk_data]    | Downloading package sinica_treebank to\n",
            "[nltk_data]    |     /root/nltk_data...\n",
            "[nltk_data]    |   Unzipping corpora/sinica_treebank.zip.\n",
            "[nltk_data]    | Downloading package smultron to /root/nltk_data...\n",
            "[nltk_data]    |   Unzipping corpora/smultron.zip.\n",
            "[nltk_data]    | Downloading package state_union to /root/nltk_data...\n",
            "[nltk_data]    |   Unzipping corpora/state_union.zip.\n",
            "[nltk_data]    | Downloading package stopwords to /root/nltk_data...\n",
            "[nltk_data]    |   Unzipping corpora/stopwords.zip.\n",
            "[nltk_data]    | Downloading package subjectivity to\n",
            "[nltk_data]    |     /root/nltk_data...\n",
            "[nltk_data]    |   Unzipping corpora/subjectivity.zip.\n",
            "[nltk_data]    | Downloading package swadesh to /root/nltk_data...\n",
            "[nltk_data]    |   Unzipping corpora/swadesh.zip.\n",
            "[nltk_data]    | Downloading package switchboard to /root/nltk_data...\n",
            "[nltk_data]    |   Unzipping corpora/switchboard.zip.\n",
            "[nltk_data]    | Downloading package timit to /root/nltk_data...\n",
            "[nltk_data]    |   Unzipping corpora/timit.zip.\n",
            "[nltk_data]    | Downloading package toolbox to /root/nltk_data...\n",
            "[nltk_data]    |   Unzipping corpora/toolbox.zip.\n",
            "[nltk_data]    | Downloading package treebank to /root/nltk_data...\n",
            "[nltk_data]    |   Unzipping corpora/treebank.zip.\n",
            "[nltk_data]    | Downloading package twitter_samples to\n",
            "[nltk_data]    |     /root/nltk_data...\n",
            "[nltk_data]    |   Unzipping corpora/twitter_samples.zip.\n",
            "[nltk_data]    | Downloading package udhr to /root/nltk_data...\n",
            "[nltk_data]    |   Unzipping corpora/udhr.zip.\n",
            "[nltk_data]    | Downloading package udhr2 to /root/nltk_data...\n",
            "[nltk_data]    |   Unzipping corpora/udhr2.zip.\n",
            "[nltk_data]    | Downloading package unicode_samples to\n",
            "[nltk_data]    |     /root/nltk_data...\n",
            "[nltk_data]    |   Unzipping corpora/unicode_samples.zip.\n",
            "[nltk_data]    | Downloading package universal_treebanks_v20 to\n",
            "[nltk_data]    |     /root/nltk_data...\n",
            "[nltk_data]    | Downloading package verbnet to /root/nltk_data...\n",
            "[nltk_data]    |   Unzipping corpora/verbnet.zip.\n",
            "[nltk_data]    | Downloading package verbnet3 to /root/nltk_data...\n",
            "[nltk_data]    |   Unzipping corpora/verbnet3.zip.\n",
            "[nltk_data]    | Downloading package webtext to /root/nltk_data...\n",
            "[nltk_data]    |   Unzipping corpora/webtext.zip.\n",
            "[nltk_data]    | Downloading package wordnet to /root/nltk_data...\n",
            "[nltk_data]    |   Unzipping corpora/wordnet.zip.\n",
            "[nltk_data]    | Downloading package wordnet31 to /root/nltk_data...\n",
            "[nltk_data]    |   Unzipping corpora/wordnet31.zip.\n",
            "[nltk_data]    | Downloading package wordnet_ic to /root/nltk_data...\n",
            "[nltk_data]    |   Unzipping corpora/wordnet_ic.zip.\n",
            "[nltk_data]    | Downloading package words to /root/nltk_data...\n",
            "[nltk_data]    |   Unzipping corpora/words.zip.\n",
            "[nltk_data]    | Downloading package ycoe to /root/nltk_data...\n",
            "[nltk_data]    |   Unzipping corpora/ycoe.zip.\n",
            "[nltk_data]    | Downloading package rslp to /root/nltk_data...\n",
            "[nltk_data]    |   Unzipping stemmers/rslp.zip.\n",
            "[nltk_data]    | Downloading package maxent_treebank_pos_tagger to\n",
            "[nltk_data]    |     /root/nltk_data...\n",
            "[nltk_data]    |   Unzipping taggers/maxent_treebank_pos_tagger.zip.\n",
            "[nltk_data]    | Downloading package universal_tagset to\n",
            "[nltk_data]    |     /root/nltk_data...\n",
            "[nltk_data]    |   Unzipping taggers/universal_tagset.zip.\n",
            "[nltk_data]    | Downloading package maxent_ne_chunker to\n",
            "[nltk_data]    |     /root/nltk_data...\n",
            "[nltk_data]    |   Unzipping chunkers/maxent_ne_chunker.zip.\n",
            "[nltk_data]    | Downloading package punkt to /root/nltk_data...\n",
            "[nltk_data]    |   Unzipping tokenizers/punkt.zip.\n",
            "[nltk_data]    | Downloading package book_grammars to\n",
            "[nltk_data]    |     /root/nltk_data...\n",
            "[nltk_data]    |   Unzipping grammars/book_grammars.zip.\n",
            "[nltk_data]    | Downloading package sample_grammars to\n",
            "[nltk_data]    |     /root/nltk_data...\n",
            "[nltk_data]    |   Unzipping grammars/sample_grammars.zip.\n",
            "[nltk_data]    | Downloading package spanish_grammars to\n",
            "[nltk_data]    |     /root/nltk_data...\n",
            "[nltk_data]    |   Unzipping grammars/spanish_grammars.zip.\n",
            "[nltk_data]    | Downloading package basque_grammars to\n",
            "[nltk_data]    |     /root/nltk_data...\n",
            "[nltk_data]    |   Unzipping grammars/basque_grammars.zip.\n",
            "[nltk_data]    | Downloading package large_grammars to\n",
            "[nltk_data]    |     /root/nltk_data...\n",
            "[nltk_data]    |   Unzipping grammars/large_grammars.zip.\n",
            "[nltk_data]    | Downloading package tagsets to /root/nltk_data...\n",
            "[nltk_data]    |   Unzipping help/tagsets.zip.\n",
            "[nltk_data]    | Downloading package snowball_data to\n",
            "[nltk_data]    |     /root/nltk_data...\n",
            "[nltk_data]    | Downloading package bllip_wsj_no_aux to\n",
            "[nltk_data]    |     /root/nltk_data...\n",
            "[nltk_data]    |   Unzipping models/bllip_wsj_no_aux.zip.\n",
            "[nltk_data]    | Downloading package word2vec_sample to\n",
            "[nltk_data]    |     /root/nltk_data...\n",
            "[nltk_data]    |   Unzipping models/word2vec_sample.zip.\n",
            "[nltk_data]    | Downloading package panlex_swadesh to\n",
            "[nltk_data]    |     /root/nltk_data...\n",
            "[nltk_data]    | Downloading package mte_teip5 to /root/nltk_data...\n",
            "[nltk_data]    |   Unzipping corpora/mte_teip5.zip.\n",
            "[nltk_data]    | Downloading package averaged_perceptron_tagger to\n",
            "[nltk_data]    |     /root/nltk_data...\n",
            "[nltk_data]    |   Unzipping taggers/averaged_perceptron_tagger.zip.\n",
            "[nltk_data]    | Downloading package averaged_perceptron_tagger_ru to\n",
            "[nltk_data]    |     /root/nltk_data...\n",
            "[nltk_data]    |   Unzipping\n",
            "[nltk_data]    |       taggers/averaged_perceptron_tagger_ru.zip.\n",
            "[nltk_data]    | Downloading package perluniprops to\n",
            "[nltk_data]    |     /root/nltk_data...\n",
            "[nltk_data]    |   Unzipping misc/perluniprops.zip.\n",
            "[nltk_data]    | Downloading package nonbreaking_prefixes to\n",
            "[nltk_data]    |     /root/nltk_data...\n",
            "[nltk_data]    |   Unzipping corpora/nonbreaking_prefixes.zip.\n",
            "[nltk_data]    | Downloading package vader_lexicon to\n",
            "[nltk_data]    |     /root/nltk_data...\n",
            "[nltk_data]    | Downloading package porter_test to /root/nltk_data...\n",
            "[nltk_data]    |   Unzipping stemmers/porter_test.zip.\n",
            "[nltk_data]    | Downloading package wmt15_eval to /root/nltk_data...\n",
            "[nltk_data]    |   Unzipping models/wmt15_eval.zip.\n",
            "[nltk_data]    | Downloading package mwa_ppdb to /root/nltk_data...\n",
            "[nltk_data]    |   Unzipping misc/mwa_ppdb.zip.\n",
            "[nltk_data]    | \n",
            "[nltk_data]  Done downloading collection all\n"
          ]
        }
      ]
    },
    {
      "cell_type": "code",
      "metadata": {
        "id": "X1bLexR2WjSf",
        "colab": {
          "base_uri": "https://localhost:8080/"
        },
        "outputId": "4a112723-173f-438c-997c-ceaa4bdae14e"
      },
      "source": [
        "!pip install gensim\n",
        "import gensim\n",
        "from gensim.models import Word2Vec"
      ],
      "execution_count": null,
      "outputs": [
        {
          "output_type": "stream",
          "name": "stdout",
          "text": [
            "Requirement already satisfied: gensim in /usr/local/lib/python3.7/dist-packages (3.6.0)\n",
            "Requirement already satisfied: scipy>=0.18.1 in /usr/local/lib/python3.7/dist-packages (from gensim) (1.4.1)\n",
            "Requirement already satisfied: numpy>=1.11.3 in /usr/local/lib/python3.7/dist-packages (from gensim) (1.19.5)\n",
            "Requirement already satisfied: six>=1.5.0 in /usr/local/lib/python3.7/dist-packages (from gensim) (1.15.0)\n",
            "Requirement already satisfied: smart-open>=1.2.1 in /usr/local/lib/python3.7/dist-packages (from gensim) (5.2.1)\n"
          ]
        }
      ]
    },
    {
      "cell_type": "markdown",
      "source": [
        "# 1 Data Loading"
      ],
      "metadata": {
        "id": "rTfTfMWLU-m2"
      }
    },
    {
      "cell_type": "code",
      "source": [
        "path1 = '/content/drive/MyDrive/information retrieval/war game'\n",
        "path2 = '/content/drive/MyDrive/Final Thesis/rule book'"
      ],
      "metadata": {
        "id": "zFlYm-zAVScK"
      },
      "execution_count": null,
      "outputs": []
    },
    {
      "cell_type": "markdown",
      "source": [
        "## 1.1 War Game Rule"
      ],
      "metadata": {
        "id": "upbCsNBtnY_R"
      }
    },
    {
      "cell_type": "code",
      "source": [
        "game_path = []\n",
        "for root, dirs, files_name in os.walk(path1):\n",
        "  for file in files_name:\n",
        "    game = os.path.join(root,file)\n",
        "    game_path.append(game)"
      ],
      "metadata": {
        "id": "665XvaenYZTI"
      },
      "execution_count": null,
      "outputs": []
    },
    {
      "cell_type": "code",
      "source": [
        "len(game_path)"
      ],
      "metadata": {
        "colab": {
          "base_uri": "https://localhost:8080/"
        },
        "id": "x_3R-D7jdVjp",
        "outputId": "8083d09e-b21d-4e86-ad2d-59d87bd45741"
      },
      "execution_count": null,
      "outputs": [
        {
          "output_type": "execute_result",
          "data": {
            "text/plain": [
              "146"
            ]
          },
          "metadata": {},
          "execution_count": 8
        }
      ]
    },
    {
      "cell_type": "code",
      "source": [
        "x0 = 0    # Distance of left side of character from left side of page.\n",
        "x1 = 0.5  # Distance of right side of character from left side of page.\n",
        "y0 = 0  # Distance of bottom of character from bottom of page.\n",
        "y1 = 1  # Distance of top of character from bottom of page.\n",
        "\n",
        "text_list = []\n",
        "for g in range(len(game_path)):\n",
        "  with pdfplumber.open(Path(game_path[g])) as pdf:\n",
        "    all_content = []\n",
        "    for i, page in enumerate(pdf.pages):\n",
        "      width = page.width\n",
        "      height = page.height\n",
        "\n",
        "        # Crop pages\n",
        "      left_bbox = (x0*float(width), y0*float(height), x1*float(width), y1*float(height))\n",
        "      page_crop = page.crop(bbox=left_bbox)\n",
        "      left_text = page_crop.extract_text()\n",
        "\n",
        "      left_bbox = (0.5*float(width), y0*float(height), 1*float(width), y1*float(height))\n",
        "      page_crop = page.crop(bbox=left_bbox)\n",
        "      right_text = page_crop.extract_text()\n",
        "      page_context = '\\n'.join([left_text, right_text])\n",
        "      all_content.append(page_context)\n",
        "  text_list.append(all_content) "
      ],
      "metadata": {
        "id": "-GNuHhREYoUE"
      },
      "execution_count": null,
      "outputs": []
    },
    {
      "cell_type": "code",
      "source": [
        "def combine(text_l): # text_list[0]\n",
        "  t = text_l[0]\n",
        "  for i in text_l[1:]:\n",
        "    t = t + ' ' + i\n",
        "  return t"
      ],
      "metadata": {
        "id": "8NrTrNBwgX-x"
      },
      "execution_count": null,
      "outputs": []
    },
    {
      "cell_type": "code",
      "source": [
        "raw_rule = []\n",
        "for i in text_list:\n",
        "  rule = combine(i)\n",
        "  raw_rule.append(rule)"
      ],
      "metadata": {
        "id": "dm9vteEvh1l3"
      },
      "execution_count": null,
      "outputs": []
    },
    {
      "cell_type": "code",
      "source": [
        "rule_array = np.array(raw_rule)"
      ],
      "metadata": {
        "id": "MjXcbjV_Zcxo"
      },
      "execution_count": null,
      "outputs": []
    },
    {
      "cell_type": "code",
      "source": [
        "np.save('/content/drive/MyDrive/information retrieval/war_rule.npy', rule_array) "
      ],
      "metadata": {
        "id": "9i2aKVx1nHUr"
      },
      "execution_count": null,
      "outputs": []
    },
    {
      "cell_type": "code",
      "source": [
        "rule_array = np.load('/content/drive/MyDrive/information retrieval/war_rule.npy')"
      ],
      "metadata": {
        "id": "61LAzSYqpRGF"
      },
      "execution_count": null,
      "outputs": []
    },
    {
      "cell_type": "code",
      "source": [
        "raw_rule = list(rule_array)"
      ],
      "metadata": {
        "id": "RHVnVtFlIszB"
      },
      "execution_count": null,
      "outputs": []
    },
    {
      "cell_type": "markdown",
      "source": [
        "## 1.2 COIN Series Rule"
      ],
      "metadata": {
        "id": "-kpunvk6nhNt"
      }
    },
    {
      "cell_type": "code",
      "source": [
        "game_path = []\n",
        "name = []\n",
        "for root, dirs, files_name in os.walk(path2):\n",
        "  for file in files_name:\n",
        "    game = os.path.join(root,file)\n",
        "    game_path.append(game)\n",
        "    name.append(file[:-4])"
      ],
      "metadata": {
        "id": "jSX3Xpmznklb"
      },
      "execution_count": null,
      "outputs": []
    },
    {
      "cell_type": "code",
      "source": [
        "name.remove('Ariovistus')"
      ],
      "metadata": {
        "id": "22Bz0cGnoGG5"
      },
      "execution_count": null,
      "outputs": []
    },
    {
      "cell_type": "code",
      "source": [
        "x0 = 0    # Distance of left side of character from left side of page.\n",
        "x1 = 0.5  # Distance of right side of character from left side of page.\n",
        "y0 = 0  # Distance of bottom of character from bottom of page.\n",
        "y1 = 1  # Distance of top of character from bottom of page.\n",
        "\n",
        "text_list = []\n",
        "for g in range(len(game_path)):\n",
        "  with pdfplumber.open(Path(game_path[g])) as pdf:\n",
        "    all_content = []\n",
        "    for i, page in enumerate(pdf.pages):\n",
        "      width = page.width\n",
        "      height = page.height\n",
        "\n",
        "        # Crop pages\n",
        "      left_bbox = (x0*float(width), y0*float(height), x1*float(width), y1*float(height))\n",
        "      page_crop = page.crop(bbox=left_bbox)\n",
        "      left_text = page_crop.extract_text()\n",
        "\n",
        "      left_bbox = (0.5*float(width), y0*float(height), 1*float(width), y1*float(height))\n",
        "      page_crop = page.crop(bbox=left_bbox)\n",
        "      right_text = page_crop.extract_text()\n",
        "      page_context = '\\n'.join([left_text, right_text])\n",
        "      all_content.append(page_context)\n",
        "  text_list.append(all_content) "
      ],
      "metadata": {
        "id": "C2A-i4y8nrau"
      },
      "execution_count": null,
      "outputs": []
    },
    {
      "cell_type": "code",
      "source": [
        "def combine2(text_l): # text_list[0]\n",
        "  t = text_l[1]\n",
        "  for i in text_l[2:]:\n",
        "    t = t + ' ' + i\n",
        "  return t"
      ],
      "metadata": {
        "id": "fRZxSNycpUGJ"
      },
      "execution_count": null,
      "outputs": []
    },
    {
      "cell_type": "code",
      "source": [
        "coin_rule = []\n",
        "for i in text_list:\n",
        "  rule = combine2(i)\n",
        "  coin_rule.append(rule)"
      ],
      "metadata": {
        "id": "o7a2ZLZjnxFc"
      },
      "execution_count": null,
      "outputs": []
    },
    {
      "cell_type": "code",
      "source": [
        "coin_array = np.array(coin_rule)\n",
        "np.save('/content/drive/MyDrive/information retrieval/coin_rule.npy', coin_array) "
      ],
      "metadata": {
        "id": "OhEKk9R0n4HX"
      },
      "execution_count": null,
      "outputs": []
    },
    {
      "cell_type": "code",
      "source": [
        "coin_array = np.load('/content/drive/MyDrive/information retrieval/coin_rule.npy')"
      ],
      "metadata": {
        "id": "TVFvJe_4SLoH"
      },
      "execution_count": null,
      "outputs": []
    },
    {
      "cell_type": "code",
      "source": [
        "coin_rule = list(coin_array)"
      ],
      "metadata": {
        "id": "Iw-DTctwSTsN"
      },
      "execution_count": null,
      "outputs": []
    },
    {
      "cell_type": "markdown",
      "source": [
        "# 2 Query Extraction"
      ],
      "metadata": {
        "id": "-d0ayuLUZuzB"
      }
    },
    {
      "cell_type": "markdown",
      "source": [
        "## 2.1 Text Cleaning"
      ],
      "metadata": {
        "id": "XowNDFxDalin"
      }
    },
    {
      "cell_type": "code",
      "source": [
        "sentences = [] # each description as a doc\n",
        "for i in raw_rule:\n",
        "    s = sent_tokenize(i)\n",
        "    sentences.append(s)"
      ],
      "metadata": {
        "id": "5rgY4tzHZx_t"
      },
      "execution_count": null,
      "outputs": []
    },
    {
      "cell_type": "code",
      "source": [
        "# tokenization\n",
        "token_list= []\n",
        "for i in sentences: # i is comment level\n",
        "    for j in i:\n",
        "      tokens = word_tokenize(j)\n",
        "      words = [word for word in tokens if word.isalpha()]\n",
        "      words = [word.lower() for word in words]\n",
        "      token_list.append(words)"
      ],
      "metadata": {
        "id": "dfTz6Qxosb7f"
      },
      "execution_count": null,
      "outputs": []
    },
    {
      "cell_type": "code",
      "source": [
        "# lemmatization\n",
        "lemmatizer = WordNetLemmatizer() \n",
        "def pos_tagger(nltk_tag): \n",
        "    if nltk_tag.startswith('J'): \n",
        "        return wordnet.ADJ \n",
        "    elif nltk_tag.startswith('V'): \n",
        "        return wordnet.VERB \n",
        "    elif nltk_tag.startswith('N'): \n",
        "        return wordnet.NOUN \n",
        "    elif nltk_tag.startswith('R'): \n",
        "        return wordnet.ADV \n",
        "    else:           \n",
        "        return None\n",
        "lemma_list = []\n",
        "for i in token_list:\n",
        "  pos_tagged = nltk.pos_tag(i)\n",
        "  wordnet_tagged = list(map(lambda x: (x[0], pos_tagger(x[1])), pos_tagged))\n",
        "  lemma = [] \n",
        "  for word, tag in wordnet_tagged:\n",
        "    if word == \"i\":\n",
        "      continue\n",
        "    if tag is None: \n",
        "      # if there is no available tag, append the token as is \n",
        "      lemma.append(word) \n",
        "    else:         \n",
        "      # else use the tag to lemmatize the token \n",
        "      lemma.append(lemmatizer.lemmatize(word, tag))\n",
        "  lemma_list.append(lemma)"
      ],
      "metadata": {
        "id": "lHzlCDF6sz-1"
      },
      "execution_count": null,
      "outputs": []
    },
    {
      "cell_type": "markdown",
      "source": [
        "## 2.2 Aspect Extraction"
      ],
      "metadata": {
        "id": "xqIeoKIIs_6F"
      }
    },
    {
      "cell_type": "code",
      "execution_count": null,
      "metadata": {
        "id": "GcA0ZXuvWjSi"
      },
      "outputs": [],
      "source": [
        "bi = []\n",
        "for item in lemma_list:\n",
        "  grams = [item[i:i+2] for i in range(len(item)-2+1)]\n",
        "  bigrams = [' '.join(j) for j in grams]\n",
        "  bi.append(bigrams)"
      ]
    },
    {
      "cell_type": "code",
      "execution_count": null,
      "metadata": {
        "id": "ZevIAwWVWjSi"
      },
      "outputs": [],
      "source": [
        "bi_v = [bigram for i in bi for bigram in i]\n",
        "uni_v = [unigram for i in lemma_list for unigram in i]"
      ]
    },
    {
      "cell_type": "code",
      "execution_count": null,
      "metadata": {
        "id": "Rqn7mwrxWjSi"
      },
      "outputs": [],
      "source": [
        "counter_bi = Counter(bi_v)\n",
        "counter_uni = Counter(uni_v)"
      ]
    },
    {
      "cell_type": "code",
      "execution_count": null,
      "metadata": {
        "id": "TN8QpkwAWjSt"
      },
      "outputs": [],
      "source": [
        "# filter before computing for less noise\n",
        "for i in list(counter_bi.keys()):\n",
        "  if i.split()[0] in stopwords.words('english'):\n",
        "    if i.split()[1] in stopwords.words('english'):\n",
        "      counter_bi.pop(i)"
      ]
    },
    {
      "cell_type": "code",
      "execution_count": null,
      "metadata": {
        "id": "d8feQ55kWjSt"
      },
      "outputs": [],
      "source": [
        "for i in list(counter_bi.keys()):\n",
        "  w,t = nltk.pos_tag(i.split())[0]\n",
        "  w1,t1 = nltk.pos_tag(i.split())[1]\n",
        "  if t[0] != \"N\":\n",
        "    if t1[0] != \"N\":\n",
        "      counter_bi.pop(i)"
      ]
    },
    {
      "cell_type": "code",
      "execution_count": null,
      "metadata": {
        "id": "906NmRZwWjSt"
      },
      "outputs": [],
      "source": [
        "def pmi_index(bigram):\n",
        "  a, b = bigram.split()\n",
        "  pmi = math.log(counter_bi[bigram]/((counter_uni[a]-counter_bi[bigram])*(counter_uni[b]-counter_bi[bigram])/(len(uni_v)-counter_bi[a])))\n",
        "  return pmi"
      ]
    },
    {
      "cell_type": "code",
      "execution_count": null,
      "metadata": {
        "id": "81PLew7uWjSu"
      },
      "outputs": [],
      "source": [
        "counter_b = counter_bi.most_common(100)"
      ]
    },
    {
      "cell_type": "code",
      "execution_count": null,
      "metadata": {
        "id": "mirPa8DoWjSu"
      },
      "outputs": [],
      "source": [
        "bi_gram_list = [k for (k,v) in counter_b]"
      ]
    },
    {
      "cell_type": "code",
      "execution_count": null,
      "metadata": {
        "id": "Vh-DCvmYWjSu"
      },
      "outputs": [],
      "source": [
        "frequency = [v for (k,v) in counter_b]"
      ]
    },
    {
      "cell_type": "code",
      "execution_count": null,
      "metadata": {
        "id": "CqmotEu-WjSu"
      },
      "outputs": [],
      "source": [
        "pmi = [pmi_index(k) for (k,v) in counter_b]"
      ]
    },
    {
      "cell_type": "code",
      "execution_count": null,
      "metadata": {
        "id": "6MKrPVwZWjSu"
      },
      "outputs": [],
      "source": [
        "fre_df = pd.DataFrame({\"bigram\":bi_gram_list, \"pmi\":pmi, \"frequency\": frequency})"
      ]
    },
    {
      "cell_type": "code",
      "execution_count": null,
      "metadata": {
        "colab": {
          "base_uri": "https://localhost:8080/",
          "height": 1000
        },
        "id": "Clk-m6GEWjSu",
        "outputId": "ae2474ef-4eb6-41b7-f7d8-ac6f7eeec64c"
      },
      "outputs": [
        {
          "output_type": "execute_result",
          "data": {
            "text/html": [
              "\n",
              "  <div id=\"df-4ad2b9db-c774-43fb-ab93-f413be341c58\">\n",
              "    <div class=\"colab-df-container\">\n",
              "      <div>\n",
              "<style scoped>\n",
              "    .dataframe tbody tr th:only-of-type {\n",
              "        vertical-align: middle;\n",
              "    }\n",
              "\n",
              "    .dataframe tbody tr th {\n",
              "        vertical-align: top;\n",
              "    }\n",
              "\n",
              "    .dataframe thead th {\n",
              "        text-align: right;\n",
              "    }\n",
              "</style>\n",
              "<table border=\"1\" class=\"dataframe\">\n",
              "  <thead>\n",
              "    <tr style=\"text-align: right;\">\n",
              "      <th></th>\n",
              "      <th>bigram</th>\n",
              "      <th>pmi</th>\n",
              "      <th>frequency</th>\n",
              "    </tr>\n",
              "  </thead>\n",
              "  <tbody>\n",
              "    <tr>\n",
              "      <th>15</th>\n",
              "      <td>game llc</td>\n",
              "      <td>8.764710</td>\n",
              "      <td>2370</td>\n",
              "    </tr>\n",
              "    <tr>\n",
              "      <th>69</th>\n",
              "      <td>design note</td>\n",
              "      <td>7.513813</td>\n",
              "      <td>1082</td>\n",
              "    </tr>\n",
              "    <tr>\n",
              "      <th>21</th>\n",
              "      <td>the following</td>\n",
              "      <td>7.424699</td>\n",
              "      <td>2198</td>\n",
              "    </tr>\n",
              "    <tr>\n",
              "      <th>79</th>\n",
              "      <td>minor country</td>\n",
              "      <td>7.394852</td>\n",
              "      <td>1003</td>\n",
              "    </tr>\n",
              "    <tr>\n",
              "      <th>65</th>\n",
              "      <td>supply source</td>\n",
              "      <td>7.172061</td>\n",
              "      <td>1124</td>\n",
              "    </tr>\n",
              "    <tr>\n",
              "      <th>12</th>\n",
              "      <td>die roll</td>\n",
              "      <td>6.303388</td>\n",
              "      <td>2664</td>\n",
              "    </tr>\n",
              "    <tr>\n",
              "      <th>85</th>\n",
              "      <td>step loss</td>\n",
              "      <td>5.634564</td>\n",
              "      <td>973</td>\n",
              "    </tr>\n",
              "    <tr>\n",
              "      <th>38</th>\n",
              "      <td>t game</td>\n",
              "      <td>5.533615</td>\n",
              "      <td>1647</td>\n",
              "    </tr>\n",
              "    <tr>\n",
              "      <th>61</th>\n",
              "      <td>victory point</td>\n",
              "      <td>5.343196</td>\n",
              "      <td>1167</td>\n",
              "    </tr>\n",
              "    <tr>\n",
              "      <th>90</th>\n",
              "      <td>part of</td>\n",
              "      <td>5.195923</td>\n",
              "      <td>949</td>\n",
              "    </tr>\n",
              "    <tr>\n",
              "      <th>2</th>\n",
              "      <td>number of</td>\n",
              "      <td>4.384094</td>\n",
              "      <td>4449</td>\n",
              "    </tr>\n",
              "    <tr>\n",
              "      <th>68</th>\n",
              "      <td>remove from</td>\n",
              "      <td>4.201498</td>\n",
              "      <td>1084</td>\n",
              "    </tr>\n",
              "    <tr>\n",
              "      <th>13</th>\n",
              "      <td>an enemy</td>\n",
              "      <td>4.090768</td>\n",
              "      <td>2529</td>\n",
              "    </tr>\n",
              "    <tr>\n",
              "      <th>43</th>\n",
              "      <td>movement phase</td>\n",
              "      <td>4.073304</td>\n",
              "      <td>1463</td>\n",
              "    </tr>\n",
              "    <tr>\n",
              "      <th>89</th>\n",
              "      <td>return to</td>\n",
              "      <td>3.963957</td>\n",
              "      <td>951</td>\n",
              "    </tr>\n",
              "    <tr>\n",
              "      <th>48</th>\n",
              "      <td>ground unit</td>\n",
              "      <td>3.883705</td>\n",
              "      <td>1348</td>\n",
              "    </tr>\n",
              "    <tr>\n",
              "      <th>27</th>\n",
              "      <td>the attacker</td>\n",
              "      <td>3.840107</td>\n",
              "      <td>2024</td>\n",
              "    </tr>\n",
              "    <tr>\n",
              "      <th>41</th>\n",
              "      <td>adjacent to</td>\n",
              "      <td>3.831267</td>\n",
              "      <td>1602</td>\n",
              "    </tr>\n",
              "    <tr>\n",
              "      <th>23</th>\n",
              "      <td>end of</td>\n",
              "      <td>3.720747</td>\n",
              "      <td>2188</td>\n",
              "    </tr>\n",
              "    <tr>\n",
              "      <th>80</th>\n",
              "      <td>note that</td>\n",
              "      <td>3.531542</td>\n",
              "      <td>1000</td>\n",
              "    </tr>\n",
              "    <tr>\n",
              "      <th>44</th>\n",
              "      <td>game turn</td>\n",
              "      <td>3.455076</td>\n",
              "      <td>1461</td>\n",
              "    </tr>\n",
              "    <tr>\n",
              "      <th>73</th>\n",
              "      <td>attempt to</td>\n",
              "      <td>3.442822</td>\n",
              "      <td>1042</td>\n",
              "    </tr>\n",
              "    <tr>\n",
              "      <th>24</th>\n",
              "      <td>the defender</td>\n",
              "      <td>3.385629</td>\n",
              "      <td>2126</td>\n",
              "    </tr>\n",
              "    <tr>\n",
              "      <th>47</th>\n",
              "      <td>be eliminate</td>\n",
              "      <td>3.223132</td>\n",
              "      <td>1363</td>\n",
              "    </tr>\n",
              "    <tr>\n",
              "      <th>62</th>\n",
              "      <td>type of</td>\n",
              "      <td>3.164231</td>\n",
              "      <td>1162</td>\n",
              "    </tr>\n",
              "    <tr>\n",
              "      <th>31</th>\n",
              "      <td>naval unit</td>\n",
              "      <td>3.154479</td>\n",
              "      <td>1902</td>\n",
              "    </tr>\n",
              "    <tr>\n",
              "      <th>14</th>\n",
              "      <td>air unit</td>\n",
              "      <td>3.077780</td>\n",
              "      <td>2370</td>\n",
              "    </tr>\n",
              "    <tr>\n",
              "      <th>71</th>\n",
              "      <td>infantry unit</td>\n",
              "      <td>3.031148</td>\n",
              "      <td>1043</td>\n",
              "    </tr>\n",
              "    <tr>\n",
              "      <th>86</th>\n",
              "      <td>start of</td>\n",
              "      <td>2.936511</td>\n",
              "      <td>970</td>\n",
              "    </tr>\n",
              "    <tr>\n",
              "      <th>70</th>\n",
              "      <td>be resolve</td>\n",
              "      <td>2.870334</td>\n",
              "      <td>1061</td>\n",
              "    </tr>\n",
              "    <tr>\n",
              "      <th>8</th>\n",
              "      <td>the map</td>\n",
              "      <td>2.868243</td>\n",
              "      <td>3385</td>\n",
              "    </tr>\n",
              "    <tr>\n",
              "      <th>22</th>\n",
              "      <td>enemy unit</td>\n",
              "      <td>2.854051</td>\n",
              "      <td>2196</td>\n",
              "    </tr>\n",
              "    <tr>\n",
              "      <th>20</th>\n",
              "      <td>player may</td>\n",
              "      <td>2.829897</td>\n",
              "      <td>2262</td>\n",
              "    </tr>\n",
              "    <tr>\n",
              "      <th>78</th>\n",
              "      <td>friendly unit</td>\n",
              "      <td>2.775740</td>\n",
              "      <td>1006</td>\n",
              "    </tr>\n",
              "    <tr>\n",
              "      <th>50</th>\n",
              "      <td>player s</td>\n",
              "      <td>2.768281</td>\n",
              "      <td>1328</td>\n",
              "    </tr>\n",
              "    <tr>\n",
              "      <th>7</th>\n",
              "      <td>be place</td>\n",
              "      <td>2.595307</td>\n",
              "      <td>3408</td>\n",
              "    </tr>\n",
              "    <tr>\n",
              "      <th>91</th>\n",
              "      <td>each player</td>\n",
              "      <td>2.548719</td>\n",
              "      <td>943</td>\n",
              "    </tr>\n",
              "    <tr>\n",
              "      <th>28</th>\n",
              "      <td>place in</td>\n",
              "      <td>2.509273</td>\n",
              "      <td>1999</td>\n",
              "    </tr>\n",
              "    <tr>\n",
              "      <th>88</th>\n",
              "      <td>place on</td>\n",
              "      <td>2.484400</td>\n",
              "      <td>958</td>\n",
              "    </tr>\n",
              "    <tr>\n",
              "      <th>55</th>\n",
              "      <td>marker on</td>\n",
              "      <td>2.473527</td>\n",
              "      <td>1219</td>\n",
              "    </tr>\n",
              "    <tr>\n",
              "      <th>25</th>\n",
              "      <td>the end</td>\n",
              "      <td>2.462401</td>\n",
              "      <td>2087</td>\n",
              "    </tr>\n",
              "    <tr>\n",
              "      <th>39</th>\n",
              "      <td>the axis</td>\n",
              "      <td>2.458699</td>\n",
              "      <td>1623</td>\n",
              "    </tr>\n",
              "    <tr>\n",
              "      <th>9</th>\n",
              "      <td>be use</td>\n",
              "      <td>2.424984</td>\n",
              "      <td>3203</td>\n",
              "    </tr>\n",
              "    <tr>\n",
              "      <th>4</th>\n",
              "      <td>unit may</td>\n",
              "      <td>2.424570</td>\n",
              "      <td>4012</td>\n",
              "    </tr>\n",
              "    <tr>\n",
              "      <th>33</th>\n",
              "      <td>the target</td>\n",
              "      <td>2.338013</td>\n",
              "      <td>1784</td>\n",
              "    </tr>\n",
              "    <tr>\n",
              "      <th>97</th>\n",
              "      <td>player turn</td>\n",
              "      <td>2.337303</td>\n",
              "      <td>915</td>\n",
              "    </tr>\n",
              "    <tr>\n",
              "      <th>11</th>\n",
              "      <td>the number</td>\n",
              "      <td>2.302182</td>\n",
              "      <td>2907</td>\n",
              "    </tr>\n",
              "    <tr>\n",
              "      <th>18</th>\n",
              "      <td>unit can</td>\n",
              "      <td>2.227612</td>\n",
              "      <td>2342</td>\n",
              "    </tr>\n",
              "    <tr>\n",
              "      <th>98</th>\n",
              "      <td>a die</td>\n",
              "      <td>2.150399</td>\n",
              "      <td>903</td>\n",
              "    </tr>\n",
              "    <tr>\n",
              "      <th>1</th>\n",
              "      <td>the game</td>\n",
              "      <td>2.145893</td>\n",
              "      <td>4529</td>\n",
              "    </tr>\n",
              "  </tbody>\n",
              "</table>\n",
              "</div>\n",
              "      <button class=\"colab-df-convert\" onclick=\"convertToInteractive('df-4ad2b9db-c774-43fb-ab93-f413be341c58')\"\n",
              "              title=\"Convert this dataframe to an interactive table.\"\n",
              "              style=\"display:none;\">\n",
              "        \n",
              "  <svg xmlns=\"http://www.w3.org/2000/svg\" height=\"24px\"viewBox=\"0 0 24 24\"\n",
              "       width=\"24px\">\n",
              "    <path d=\"M0 0h24v24H0V0z\" fill=\"none\"/>\n",
              "    <path d=\"M18.56 5.44l.94 2.06.94-2.06 2.06-.94-2.06-.94-.94-2.06-.94 2.06-2.06.94zm-11 1L8.5 8.5l.94-2.06 2.06-.94-2.06-.94L8.5 2.5l-.94 2.06-2.06.94zm10 10l.94 2.06.94-2.06 2.06-.94-2.06-.94-.94-2.06-.94 2.06-2.06.94z\"/><path d=\"M17.41 7.96l-1.37-1.37c-.4-.4-.92-.59-1.43-.59-.52 0-1.04.2-1.43.59L10.3 9.45l-7.72 7.72c-.78.78-.78 2.05 0 2.83L4 21.41c.39.39.9.59 1.41.59.51 0 1.02-.2 1.41-.59l7.78-7.78 2.81-2.81c.8-.78.8-2.07 0-2.86zM5.41 20L4 18.59l7.72-7.72 1.47 1.35L5.41 20z\"/>\n",
              "  </svg>\n",
              "      </button>\n",
              "      \n",
              "  <style>\n",
              "    .colab-df-container {\n",
              "      display:flex;\n",
              "      flex-wrap:wrap;\n",
              "      gap: 12px;\n",
              "    }\n",
              "\n",
              "    .colab-df-convert {\n",
              "      background-color: #E8F0FE;\n",
              "      border: none;\n",
              "      border-radius: 50%;\n",
              "      cursor: pointer;\n",
              "      display: none;\n",
              "      fill: #1967D2;\n",
              "      height: 32px;\n",
              "      padding: 0 0 0 0;\n",
              "      width: 32px;\n",
              "    }\n",
              "\n",
              "    .colab-df-convert:hover {\n",
              "      background-color: #E2EBFA;\n",
              "      box-shadow: 0px 1px 2px rgba(60, 64, 67, 0.3), 0px 1px 3px 1px rgba(60, 64, 67, 0.15);\n",
              "      fill: #174EA6;\n",
              "    }\n",
              "\n",
              "    [theme=dark] .colab-df-convert {\n",
              "      background-color: #3B4455;\n",
              "      fill: #D2E3FC;\n",
              "    }\n",
              "\n",
              "    [theme=dark] .colab-df-convert:hover {\n",
              "      background-color: #434B5C;\n",
              "      box-shadow: 0px 1px 3px 1px rgba(0, 0, 0, 0.15);\n",
              "      filter: drop-shadow(0px 1px 2px rgba(0, 0, 0, 0.3));\n",
              "      fill: #FFFFFF;\n",
              "    }\n",
              "  </style>\n",
              "\n",
              "      <script>\n",
              "        const buttonEl =\n",
              "          document.querySelector('#df-4ad2b9db-c774-43fb-ab93-f413be341c58 button.colab-df-convert');\n",
              "        buttonEl.style.display =\n",
              "          google.colab.kernel.accessAllowed ? 'block' : 'none';\n",
              "\n",
              "        async function convertToInteractive(key) {\n",
              "          const element = document.querySelector('#df-4ad2b9db-c774-43fb-ab93-f413be341c58');\n",
              "          const dataTable =\n",
              "            await google.colab.kernel.invokeFunction('convertToInteractive',\n",
              "                                                     [key], {});\n",
              "          if (!dataTable) return;\n",
              "\n",
              "          const docLinkHtml = 'Like what you see? Visit the ' +\n",
              "            '<a target=\"_blank\" href=https://colab.research.google.com/notebooks/data_table.ipynb>data table notebook</a>'\n",
              "            + ' to learn more about interactive tables.';\n",
              "          element.innerHTML = '';\n",
              "          dataTable['output_type'] = 'display_data';\n",
              "          await google.colab.output.renderOutput(dataTable, element);\n",
              "          const docLink = document.createElement('div');\n",
              "          docLink.innerHTML = docLinkHtml;\n",
              "          element.appendChild(docLink);\n",
              "        }\n",
              "      </script>\n",
              "    </div>\n",
              "  </div>\n",
              "  "
            ],
            "text/plain": [
              "            bigram       pmi  frequency\n",
              "15        game llc  8.764710       2370\n",
              "69     design note  7.513813       1082\n",
              "21   the following  7.424699       2198\n",
              "79   minor country  7.394852       1003\n",
              "65   supply source  7.172061       1124\n",
              "12        die roll  6.303388       2664\n",
              "85       step loss  5.634564        973\n",
              "38          t game  5.533615       1647\n",
              "61   victory point  5.343196       1167\n",
              "90         part of  5.195923        949\n",
              "2        number of  4.384094       4449\n",
              "68     remove from  4.201498       1084\n",
              "13        an enemy  4.090768       2529\n",
              "43  movement phase  4.073304       1463\n",
              "89       return to  3.963957        951\n",
              "48     ground unit  3.883705       1348\n",
              "27    the attacker  3.840107       2024\n",
              "41     adjacent to  3.831267       1602\n",
              "23          end of  3.720747       2188\n",
              "80       note that  3.531542       1000\n",
              "44       game turn  3.455076       1461\n",
              "73      attempt to  3.442822       1042\n",
              "24    the defender  3.385629       2126\n",
              "47    be eliminate  3.223132       1363\n",
              "62         type of  3.164231       1162\n",
              "31      naval unit  3.154479       1902\n",
              "14        air unit  3.077780       2370\n",
              "71   infantry unit  3.031148       1043\n",
              "86        start of  2.936511        970\n",
              "70      be resolve  2.870334       1061\n",
              "8          the map  2.868243       3385\n",
              "22      enemy unit  2.854051       2196\n",
              "20      player may  2.829897       2262\n",
              "78   friendly unit  2.775740       1006\n",
              "50        player s  2.768281       1328\n",
              "7         be place  2.595307       3408\n",
              "91     each player  2.548719        943\n",
              "28        place in  2.509273       1999\n",
              "88        place on  2.484400        958\n",
              "55       marker on  2.473527       1219\n",
              "25         the end  2.462401       2087\n",
              "39        the axis  2.458699       1623\n",
              "9           be use  2.424984       3203\n",
              "4         unit may  2.424570       4012\n",
              "33      the target  2.338013       1784\n",
              "97     player turn  2.337303        915\n",
              "11      the number  2.302182       2907\n",
              "18        unit can  2.227612       2342\n",
              "98           a die  2.150399        903\n",
              "1         the game  2.145893       4529"
            ]
          },
          "metadata": {},
          "execution_count": 25
        }
      ],
      "source": [
        "fre_most = fre_df.sort_values(by=\"pmi\", ascending=False).head(50)\n",
        "fre_most"
      ]
    },
    {
      "cell_type": "code",
      "source": [
        "select = fre_most.drop([15, 38, 89, 86, 7, 28, 88, 55, 9, 4, 70, 47, 68], axis = 0)\n",
        "select_bi = select[\"bigram\"]"
      ],
      "metadata": {
        "id": "dmmhyso4s2X-"
      },
      "execution_count": null,
      "outputs": []
    },
    {
      "cell_type": "code",
      "execution_count": null,
      "metadata": {
        "id": "J9KX9048WjSu"
      },
      "outputs": [],
      "source": [
        "bi_dict = defaultdict(list)\n",
        "for bi in select_bi:\n",
        "  f,s = bi.split()\n",
        "  bi_dict[f].append(s)"
      ]
    },
    {
      "cell_type": "code",
      "execution_count": null,
      "metadata": {
        "id": "FetnzlLxWjSu"
      },
      "outputs": [],
      "source": [
        "sent_c = []\n",
        "for sent in lemma_list: \n",
        "  if len(sent) > 1:\n",
        "    sent_list = []\n",
        "    for i in range(len(sent)-1):\n",
        "      if sent[i] in list(bi_dict.keys()):\n",
        "        if sent[i+1] in bi_dict[sent[i]]:\n",
        "          bi = sent[i] + \" \" + sent[i+1]\n",
        "          sent_list.append(bi)\n",
        "        else:\n",
        "          if sent[i] not in stopwords.words('english'):\n",
        "            sent_list.append(sent[i])  \n",
        "      else:\n",
        "        if sent[i] not in stopwords.words('english'):\n",
        "          sent_list.append(sent[i]) \n",
        "    sent_c.append(sent_list)\n",
        "  elif len(sent) == 1:\n",
        "    if sent[0] not in stopwords.words('english'):\n",
        "      sent_c.append(sent)\n",
        "    else:\n",
        "      sent_c.append([])\n",
        "  else:\n",
        "    sent_c.append([])"
      ]
    },
    {
      "cell_type": "code",
      "execution_count": null,
      "metadata": {
        "id": "JmrxZPQWWjSu"
      },
      "outputs": [],
      "source": [
        "sent1 = [] # game level\n",
        "for c in sentences:\n",
        "  ll = []\n",
        "  for s in c:\n",
        "    tokens = word_tokenize(s)\n",
        "    words = [word for word in tokens if word.isalpha()]\n",
        "    words = [word.lower() for word in words]\n",
        "    words = [word for word in words if word != 'i']\n",
        "    ll.append(words)\n",
        "  sent1.append(ll)"
      ]
    },
    {
      "cell_type": "code",
      "execution_count": null,
      "metadata": {
        "id": "LiQHN9VuWjSu"
      },
      "outputs": [],
      "source": [
        "num_com = len(sentences)"
      ]
    },
    {
      "cell_type": "code",
      "execution_count": null,
      "metadata": {
        "id": "JW1Yqs64WjSu"
      },
      "outputs": [],
      "source": [
        "com_sent = [] # basic list is sentence\n",
        "count = 0\n",
        "for i in range(num_com):\n",
        "  end = count + len(sent1[i])\n",
        "  cc = sent_c[count:end]\n",
        "  com_sent.append(cc)\n",
        "  count = end"
      ]
    },
    {
      "cell_type": "code",
      "execution_count": null,
      "metadata": {
        "id": "wSXKX3NCWjSu"
      },
      "outputs": [],
      "source": [
        "rule = [] # basic list is rule\n",
        "for com in com_sent:\n",
        "  c = []\n",
        "  for sent in com:\n",
        "    for wor in sent:\n",
        "      c.append(wor)\n",
        "  rule.append(c)"
      ]
    },
    {
      "cell_type": "code",
      "execution_count": null,
      "metadata": {
        "id": "S6dMeqbtWjSu"
      },
      "outputs": [],
      "source": [
        "noun = []\n",
        "for r in rule:\n",
        "  c = []\n",
        "  for wor in r:\n",
        "    if wor in select_bi:\n",
        "      c.append(wor)\n",
        "    else:\n",
        "      w, t = nltk.pos_tag([wor])[0]\n",
        "      if t[0] == \"N\":\n",
        "        c.append(wor)\n",
        "  noun.append(c)"
      ]
    },
    {
      "cell_type": "code",
      "execution_count": null,
      "metadata": {
        "id": "-i7sXGeQWjSv"
      },
      "outputs": [],
      "source": [
        "words = [wor for c in noun for wor in c]"
      ]
    },
    {
      "cell_type": "code",
      "execution_count": null,
      "metadata": {
        "id": "vptRlCHlWjSv"
      },
      "outputs": [],
      "source": [
        "v_n = [n for n,c in Counter(words).most_common(500)]"
      ]
    },
    {
      "cell_type": "code",
      "execution_count": null,
      "metadata": {
        "id": "FUhOhfsZWjSv"
      },
      "outputs": [],
      "source": [
        "df = pd.DataFrame({\"text\":rule})\n",
        "df['text'] = df['text'].apply(lambda x: ' '.join([word for word in x]))\n",
        "vectorizer = TfidfVectorizer(vocabulary=v_n, ngram_range=(1,2))\n",
        "TF_IDF = vectorizer.fit_transform(df['text'].values)\n",
        "TF_IDF_array = TF_IDF.toarray()"
      ]
    },
    {
      "cell_type": "code",
      "execution_count": null,
      "metadata": {
        "id": "3rriszYOWjSv"
      },
      "outputs": [],
      "source": [
        "sum = np.sum(TF_IDF_array,axis=0).tolist()"
      ]
    },
    {
      "cell_type": "code",
      "execution_count": null,
      "metadata": {
        "colab": {
          "base_uri": "https://localhost:8080/"
        },
        "id": "JzOPGeIiWjSv",
        "outputId": "591a1db6-c500-4de2-9fc7-bb6814a2ca27"
      },
      "outputs": [
        {
          "output_type": "stream",
          "name": "stderr",
          "text": [
            "/usr/local/lib/python3.7/dist-packages/sklearn/utils/deprecation.py:87: FutureWarning: Function get_feature_names is deprecated; get_feature_names is deprecated in 1.0 and will be removed in 1.2. Please use get_feature_names_out instead.\n",
            "  warnings.warn(msg, category=FutureWarning)\n"
          ]
        }
      ],
      "source": [
        "rank = pd.DataFrame({\"feature\":vectorizer.get_feature_names(),\"index\": sum}).sort_values(\"index\", ascending=False).head(50)"
      ]
    },
    {
      "cell_type": "code",
      "source": [
        "rank.head(50)"
      ],
      "metadata": {
        "colab": {
          "base_uri": "https://localhost:8080/",
          "height": 1000
        },
        "id": "0U6agFpooVjK",
        "outputId": "e2d5e3ad-2efe-48d7-f403-67e2d310bb26"
      },
      "execution_count": null,
      "outputs": [
        {
          "output_type": "execute_result",
          "data": {
            "text/html": [
              "\n",
              "  <div id=\"df-6d5bc127-6916-4430-a27d-bb6faf499c51\">\n",
              "    <div class=\"colab-df-container\">\n",
              "      <div>\n",
              "<style scoped>\n",
              "    .dataframe tbody tr th:only-of-type {\n",
              "        vertical-align: middle;\n",
              "    }\n",
              "\n",
              "    .dataframe tbody tr th {\n",
              "        vertical-align: top;\n",
              "    }\n",
              "\n",
              "    .dataframe thead th {\n",
              "        text-align: right;\n",
              "    }\n",
              "</style>\n",
              "<table border=\"1\" class=\"dataframe\">\n",
              "  <thead>\n",
              "    <tr style=\"text-align: right;\">\n",
              "      <th></th>\n",
              "      <th>feature</th>\n",
              "      <th>index</th>\n",
              "    </tr>\n",
              "  </thead>\n",
              "  <tbody>\n",
              "    <tr>\n",
              "      <th>0</th>\n",
              "      <td>unit</td>\n",
              "      <td>50.346701</td>\n",
              "    </tr>\n",
              "    <tr>\n",
              "      <th>1</th>\n",
              "      <td>hex</td>\n",
              "      <td>20.618702</td>\n",
              "    </tr>\n",
              "    <tr>\n",
              "      <th>2</th>\n",
              "      <td>player</td>\n",
              "      <td>19.857379</td>\n",
              "    </tr>\n",
              "    <tr>\n",
              "      <th>11</th>\n",
              "      <td>game</td>\n",
              "      <td>14.507899</td>\n",
              "    </tr>\n",
              "    <tr>\n",
              "      <th>5</th>\n",
              "      <td>card</td>\n",
              "      <td>13.786489</td>\n",
              "    </tr>\n",
              "    <tr>\n",
              "      <th>4</th>\n",
              "      <td>combat</td>\n",
              "      <td>11.350398</td>\n",
              "    </tr>\n",
              "    <tr>\n",
              "      <th>10</th>\n",
              "      <td>turn</td>\n",
              "      <td>11.280000</td>\n",
              "    </tr>\n",
              "    <tr>\n",
              "      <th>6</th>\n",
              "      <td>marker</td>\n",
              "      <td>10.751649</td>\n",
              "    </tr>\n",
              "    <tr>\n",
              "      <th>3</th>\n",
              "      <td>attack</td>\n",
              "      <td>10.518392</td>\n",
              "    </tr>\n",
              "    <tr>\n",
              "      <th>12</th>\n",
              "      <td>roll</td>\n",
              "      <td>10.169026</td>\n",
              "    </tr>\n",
              "    <tr>\n",
              "      <th>7</th>\n",
              "      <td>move</td>\n",
              "      <td>9.907109</td>\n",
              "    </tr>\n",
              "    <tr>\n",
              "      <th>9</th>\n",
              "      <td>place</td>\n",
              "      <td>9.402296</td>\n",
              "    </tr>\n",
              "    <tr>\n",
              "      <th>19</th>\n",
              "      <td>enemy</td>\n",
              "      <td>9.316033</td>\n",
              "    </tr>\n",
              "    <tr>\n",
              "      <th>8</th>\n",
              "      <td>use</td>\n",
              "      <td>8.901436</td>\n",
              "    </tr>\n",
              "    <tr>\n",
              "      <th>14</th>\n",
              "      <td>movement</td>\n",
              "      <td>8.325816</td>\n",
              "    </tr>\n",
              "    <tr>\n",
              "      <th>93</th>\n",
              "      <td>number</td>\n",
              "      <td>8.198237</td>\n",
              "    </tr>\n",
              "    <tr>\n",
              "      <th>18</th>\n",
              "      <td>point</td>\n",
              "      <td>8.009928</td>\n",
              "    </tr>\n",
              "    <tr>\n",
              "      <th>17</th>\n",
              "      <td>phase</td>\n",
              "      <td>7.736684</td>\n",
              "    </tr>\n",
              "    <tr>\n",
              "      <th>34</th>\n",
              "      <td>map</td>\n",
              "      <td>7.704692</td>\n",
              "    </tr>\n",
              "    <tr>\n",
              "      <th>13</th>\n",
              "      <td>play</td>\n",
              "      <td>7.502755</td>\n",
              "    </tr>\n",
              "    <tr>\n",
              "      <th>16</th>\n",
              "      <td>supply</td>\n",
              "      <td>7.413829</td>\n",
              "    </tr>\n",
              "    <tr>\n",
              "      <th>50</th>\n",
              "      <td>axis</td>\n",
              "      <td>7.123136</td>\n",
              "    </tr>\n",
              "    <tr>\n",
              "      <th>32</th>\n",
              "      <td>area</td>\n",
              "      <td>7.057327</td>\n",
              "    </tr>\n",
              "    <tr>\n",
              "      <th>15</th>\n",
              "      <td>force</td>\n",
              "      <td>6.462027</td>\n",
              "    </tr>\n",
              "    <tr>\n",
              "      <th>23</th>\n",
              "      <td>army</td>\n",
              "      <td>6.455216</td>\n",
              "    </tr>\n",
              "    <tr>\n",
              "      <th>27</th>\n",
              "      <td>battle</td>\n",
              "      <td>6.409165</td>\n",
              "    </tr>\n",
              "    <tr>\n",
              "      <th>45</th>\n",
              "      <td>leader</td>\n",
              "      <td>6.375743</td>\n",
              "    </tr>\n",
              "    <tr>\n",
              "      <th>35</th>\n",
              "      <td>ship</td>\n",
              "      <td>6.346545</td>\n",
              "    </tr>\n",
              "    <tr>\n",
              "      <th>22</th>\n",
              "      <td>fire</td>\n",
              "      <td>6.294567</td>\n",
              "    </tr>\n",
              "    <tr>\n",
              "      <th>26</th>\n",
              "      <td>space</td>\n",
              "      <td>6.211682</td>\n",
              "    </tr>\n",
              "    <tr>\n",
              "      <th>29</th>\n",
              "      <td>retreat</td>\n",
              "      <td>6.140494</td>\n",
              "    </tr>\n",
              "    <tr>\n",
              "      <th>24</th>\n",
              "      <td>air</td>\n",
              "      <td>6.097662</td>\n",
              "    </tr>\n",
              "    <tr>\n",
              "      <th>104</th>\n",
              "      <td>end</td>\n",
              "      <td>5.769693</td>\n",
              "    </tr>\n",
              "    <tr>\n",
              "      <th>20</th>\n",
              "      <td>control</td>\n",
              "      <td>5.259752</td>\n",
              "    </tr>\n",
              "    <tr>\n",
              "      <th>36</th>\n",
              "      <td>event</td>\n",
              "      <td>5.213794</td>\n",
              "    </tr>\n",
              "    <tr>\n",
              "      <th>30</th>\n",
              "      <td>counter</td>\n",
              "      <td>5.202796</td>\n",
              "    </tr>\n",
              "    <tr>\n",
              "      <th>48</th>\n",
              "      <td>target</td>\n",
              "      <td>5.069745</td>\n",
              "    </tr>\n",
              "    <tr>\n",
              "      <th>31</th>\n",
              "      <td>side</td>\n",
              "      <td>5.061571</td>\n",
              "    </tr>\n",
              "    <tr>\n",
              "      <th>42</th>\n",
              "      <td>note</td>\n",
              "      <td>4.950452</td>\n",
              "    </tr>\n",
              "    <tr>\n",
              "      <th>33</th>\n",
              "      <td>action</td>\n",
              "      <td>4.943046</td>\n",
              "    </tr>\n",
              "    <tr>\n",
              "      <th>38</th>\n",
              "      <td>the game</td>\n",
              "      <td>4.766121</td>\n",
              "    </tr>\n",
              "    <tr>\n",
              "      <th>28</th>\n",
              "      <td>rule</td>\n",
              "      <td>4.713952</td>\n",
              "    </tr>\n",
              "    <tr>\n",
              "      <th>66</th>\n",
              "      <td>defender</td>\n",
              "      <td>4.689507</td>\n",
              "    </tr>\n",
              "    <tr>\n",
              "      <th>49</th>\n",
              "      <td>command</td>\n",
              "      <td>4.579977</td>\n",
              "    </tr>\n",
              "    <tr>\n",
              "      <th>161</th>\n",
              "      <td>die</td>\n",
              "      <td>4.429619</td>\n",
              "    </tr>\n",
              "    <tr>\n",
              "      <th>134</th>\n",
              "      <td>chit</td>\n",
              "      <td>4.420514</td>\n",
              "    </tr>\n",
              "    <tr>\n",
              "      <th>40</th>\n",
              "      <td>naval</td>\n",
              "      <td>4.379582</td>\n",
              "    </tr>\n",
              "    <tr>\n",
              "      <th>44</th>\n",
              "      <td>step</td>\n",
              "      <td>4.367581</td>\n",
              "    </tr>\n",
              "    <tr>\n",
              "      <th>88</th>\n",
              "      <td>attacker</td>\n",
              "      <td>4.212205</td>\n",
              "    </tr>\n",
              "    <tr>\n",
              "      <th>83</th>\n",
              "      <td>infantry</td>\n",
              "      <td>4.140600</td>\n",
              "    </tr>\n",
              "  </tbody>\n",
              "</table>\n",
              "</div>\n",
              "      <button class=\"colab-df-convert\" onclick=\"convertToInteractive('df-6d5bc127-6916-4430-a27d-bb6faf499c51')\"\n",
              "              title=\"Convert this dataframe to an interactive table.\"\n",
              "              style=\"display:none;\">\n",
              "        \n",
              "  <svg xmlns=\"http://www.w3.org/2000/svg\" height=\"24px\"viewBox=\"0 0 24 24\"\n",
              "       width=\"24px\">\n",
              "    <path d=\"M0 0h24v24H0V0z\" fill=\"none\"/>\n",
              "    <path d=\"M18.56 5.44l.94 2.06.94-2.06 2.06-.94-2.06-.94-.94-2.06-.94 2.06-2.06.94zm-11 1L8.5 8.5l.94-2.06 2.06-.94-2.06-.94L8.5 2.5l-.94 2.06-2.06.94zm10 10l.94 2.06.94-2.06 2.06-.94-2.06-.94-.94-2.06-.94 2.06-2.06.94z\"/><path d=\"M17.41 7.96l-1.37-1.37c-.4-.4-.92-.59-1.43-.59-.52 0-1.04.2-1.43.59L10.3 9.45l-7.72 7.72c-.78.78-.78 2.05 0 2.83L4 21.41c.39.39.9.59 1.41.59.51 0 1.02-.2 1.41-.59l7.78-7.78 2.81-2.81c.8-.78.8-2.07 0-2.86zM5.41 20L4 18.59l7.72-7.72 1.47 1.35L5.41 20z\"/>\n",
              "  </svg>\n",
              "      </button>\n",
              "      \n",
              "  <style>\n",
              "    .colab-df-container {\n",
              "      display:flex;\n",
              "      flex-wrap:wrap;\n",
              "      gap: 12px;\n",
              "    }\n",
              "\n",
              "    .colab-df-convert {\n",
              "      background-color: #E8F0FE;\n",
              "      border: none;\n",
              "      border-radius: 50%;\n",
              "      cursor: pointer;\n",
              "      display: none;\n",
              "      fill: #1967D2;\n",
              "      height: 32px;\n",
              "      padding: 0 0 0 0;\n",
              "      width: 32px;\n",
              "    }\n",
              "\n",
              "    .colab-df-convert:hover {\n",
              "      background-color: #E2EBFA;\n",
              "      box-shadow: 0px 1px 2px rgba(60, 64, 67, 0.3), 0px 1px 3px 1px rgba(60, 64, 67, 0.15);\n",
              "      fill: #174EA6;\n",
              "    }\n",
              "\n",
              "    [theme=dark] .colab-df-convert {\n",
              "      background-color: #3B4455;\n",
              "      fill: #D2E3FC;\n",
              "    }\n",
              "\n",
              "    [theme=dark] .colab-df-convert:hover {\n",
              "      background-color: #434B5C;\n",
              "      box-shadow: 0px 1px 3px 1px rgba(0, 0, 0, 0.15);\n",
              "      filter: drop-shadow(0px 1px 2px rgba(0, 0, 0, 0.3));\n",
              "      fill: #FFFFFF;\n",
              "    }\n",
              "  </style>\n",
              "\n",
              "      <script>\n",
              "        const buttonEl =\n",
              "          document.querySelector('#df-6d5bc127-6916-4430-a27d-bb6faf499c51 button.colab-df-convert');\n",
              "        buttonEl.style.display =\n",
              "          google.colab.kernel.accessAllowed ? 'block' : 'none';\n",
              "\n",
              "        async function convertToInteractive(key) {\n",
              "          const element = document.querySelector('#df-6d5bc127-6916-4430-a27d-bb6faf499c51');\n",
              "          const dataTable =\n",
              "            await google.colab.kernel.invokeFunction('convertToInteractive',\n",
              "                                                     [key], {});\n",
              "          if (!dataTable) return;\n",
              "\n",
              "          const docLinkHtml = 'Like what you see? Visit the ' +\n",
              "            '<a target=\"_blank\" href=https://colab.research.google.com/notebooks/data_table.ipynb>data table notebook</a>'\n",
              "            + ' to learn more about interactive tables.';\n",
              "          element.innerHTML = '';\n",
              "          dataTable['output_type'] = 'display_data';\n",
              "          await google.colab.output.renderOutput(dataTable, element);\n",
              "          const docLink = document.createElement('div');\n",
              "          docLink.innerHTML = docLinkHtml;\n",
              "          element.appendChild(docLink);\n",
              "        }\n",
              "      </script>\n",
              "    </div>\n",
              "  </div>\n",
              "  "
            ],
            "text/plain": [
              "      feature      index\n",
              "0        unit  50.346701\n",
              "1         hex  20.618702\n",
              "2      player  19.857379\n",
              "11       game  14.507899\n",
              "5        card  13.786489\n",
              "4      combat  11.350398\n",
              "10       turn  11.280000\n",
              "6      marker  10.751649\n",
              "3      attack  10.518392\n",
              "12       roll  10.169026\n",
              "7        move   9.907109\n",
              "9       place   9.402296\n",
              "19      enemy   9.316033\n",
              "8         use   8.901436\n",
              "14   movement   8.325816\n",
              "93     number   8.198237\n",
              "18      point   8.009928\n",
              "17      phase   7.736684\n",
              "34        map   7.704692\n",
              "13       play   7.502755\n",
              "16     supply   7.413829\n",
              "50       axis   7.123136\n",
              "32       area   7.057327\n",
              "15      force   6.462027\n",
              "23       army   6.455216\n",
              "27     battle   6.409165\n",
              "45     leader   6.375743\n",
              "35       ship   6.346545\n",
              "22       fire   6.294567\n",
              "26      space   6.211682\n",
              "29    retreat   6.140494\n",
              "24        air   6.097662\n",
              "104       end   5.769693\n",
              "20    control   5.259752\n",
              "36      event   5.213794\n",
              "30    counter   5.202796\n",
              "48     target   5.069745\n",
              "31       side   5.061571\n",
              "42       note   4.950452\n",
              "33     action   4.943046\n",
              "38   the game   4.766121\n",
              "28       rule   4.713952\n",
              "66   defender   4.689507\n",
              "49    command   4.579977\n",
              "161       die   4.429619\n",
              "134      chit   4.420514\n",
              "40      naval   4.379582\n",
              "44       step   4.367581\n",
              "88   attacker   4.212205\n",
              "83   infantry   4.140600"
            ]
          },
          "metadata": {},
          "execution_count": 45
        }
      ]
    },
    {
      "cell_type": "code",
      "source": [
        "aspects = rank.drop([0, 2, 11, 5, 10, 6, 9, 8, 93, 17, 13, 50, 35, 22, 24, 36, 30, 42, 33,38, 28, 134, 40, 44], axis=0)['feature']"
      ],
      "metadata": {
        "id": "pZ_JQIE6dMMs"
      },
      "execution_count": null,
      "outputs": []
    },
    {
      "cell_type": "code",
      "source": [
        "aspects"
      ],
      "metadata": {
        "colab": {
          "base_uri": "https://localhost:8080/"
        },
        "id": "5BxAQlWrnwjt",
        "outputId": "f15fb8a5-589b-4e83-97ed-b42a3e0eb339"
      },
      "execution_count": null,
      "outputs": [
        {
          "output_type": "execute_result",
          "data": {
            "text/plain": [
              "1           hex\n",
              "4        combat\n",
              "3        attack\n",
              "12         roll\n",
              "7          move\n",
              "19        enemy\n",
              "14     movement\n",
              "18        point\n",
              "34          map\n",
              "16       supply\n",
              "32         area\n",
              "15        force\n",
              "23         army\n",
              "27       battle\n",
              "45       leader\n",
              "26        space\n",
              "29      retreat\n",
              "104         end\n",
              "20      control\n",
              "48       target\n",
              "31         side\n",
              "66     defender\n",
              "49      command\n",
              "161         die\n",
              "88     attacker\n",
              "83     infantry\n",
              "Name: feature, dtype: object"
            ]
          },
          "metadata": {},
          "execution_count": 47
        }
      ]
    },
    {
      "cell_type": "markdown",
      "metadata": {
        "id": "_aJ-xWBJJdbp"
      },
      "source": [
        "## 2.3 Query Expansion"
      ]
    },
    {
      "cell_type": "code",
      "execution_count": null,
      "metadata": {
        "id": "IsaxC5ORJdbp",
        "colab": {
          "base_uri": "https://localhost:8080/"
        },
        "outputId": "34aa8bb2-fa08-4a69-91bf-ad44f1d81036"
      },
      "outputs": [
        {
          "output_type": "execute_result",
          "data": {
            "text/plain": [
              "31028"
            ]
          },
          "metadata": {},
          "execution_count": 48
        }
      ],
      "source": [
        "www = [word for item in sent_c for word in item]\n",
        "len(Counter(www).keys())"
      ]
    },
    {
      "cell_type": "code",
      "execution_count": null,
      "metadata": {
        "id": "WMv76cJGJdbp"
      },
      "outputs": [],
      "source": [
        "def skip(sent, n=3, s=2):\n",
        "  k_grams = []\n",
        "  for i in range(len(sent)):\n",
        "    for z in range(s):\n",
        "      seq = [sent[i]] + sent[i+z+1:i+z+n]\n",
        "      if len(seq) == n and seq not in k_grams:\n",
        "        k_grams.append(list(seq))\n",
        "  return k_grams  "
      ]
    },
    {
      "cell_type": "code",
      "execution_count": null,
      "metadata": {
        "id": "-rpzuqf-Jdbp"
      },
      "outputs": [],
      "source": [
        "sent_c1 = [sent for sent in sent_c if sent != []]"
      ]
    },
    {
      "cell_type": "code",
      "execution_count": null,
      "metadata": {
        "id": "Ev7XDvVzJdbp"
      },
      "outputs": [],
      "source": [
        "sequences = []\n",
        "for i in sent_c1:\n",
        "  l = skip(i)\n",
        "  sequences.append(l)"
      ]
    },
    {
      "cell_type": "code",
      "execution_count": null,
      "metadata": {
        "id": "s1-v1imaJdbp"
      },
      "outputs": [],
      "source": [
        "sequences = [sent for sent in sequences if sent != []]\n",
        "seq = [s for sent in sequences for s in sent]"
      ]
    },
    {
      "cell_type": "code",
      "execution_count": null,
      "metadata": {
        "id": "SSkBHcm3Jdbp",
        "colab": {
          "base_uri": "https://localhost:8080/"
        },
        "outputId": "892decb3-ba18-4469-dad2-3e3d1804ae32"
      },
      "outputs": [
        {
          "output_type": "execute_result",
          "data": {
            "text/plain": [
              "[['grand', 'tactical', 'table'],\n",
              " ['grand', 'table', 'content'],\n",
              " ['tactical', 'table', 'content'],\n",
              " ['summary', 'description', 'the game'],\n",
              " ['summary', 'the game', 'game'],\n",
              " ['description', 'the game', 'game'],\n",
              " ['description', 'game', 'read'],\n",
              " ['the game', 'game', 'read'],\n",
              " ['the game', 'read', 'counter'],\n",
              " ['game', 'read', 'counter']]"
            ]
          },
          "metadata": {},
          "execution_count": 44
        }
      ],
      "source": [
        "seq[:10]"
      ]
    },
    {
      "cell_type": "code",
      "execution_count": null,
      "metadata": {
        "id": "Ft5msu0dJdbp"
      },
      "outputs": [],
      "source": [
        "model = Word2Vec(seq, min_count=50)"
      ]
    },
    {
      "cell_type": "code",
      "execution_count": null,
      "metadata": {
        "id": "didvHR11Jdbq",
        "colab": {
          "base_uri": "https://localhost:8080/"
        },
        "outputId": "15b63ffb-2ab8-4263-9812-a4c565a4dfa0"
      },
      "outputs": [
        {
          "output_type": "execute_result",
          "data": {
            "text/plain": [
              "[('ment', 0.7129577398300171),\n",
              " ('movement phase', 0.5347548127174377),\n",
              " ('redeployment', 0.4986381530761719),\n",
              " ('prohibition', 0.4941112697124481),\n",
              " ('mp', 0.4906054139137268),\n",
              " ('mf', 0.4772433638572693),\n",
              " ('move', 0.4722045361995697),\n",
              " ('connection', 0.4671792685985565),\n",
              " ('tegic', 0.4647045433521271),\n",
              " ('airmobile', 0.46397799253463745)]"
            ]
          },
          "metadata": {},
          "execution_count": 60
        }
      ],
      "source": [
        "word = 'movement'\n",
        "model.wv.most_similar(positive=word)"
      ]
    },
    {
      "cell_type": "code",
      "execution_count": null,
      "metadata": {
        "id": "M_nV3H8rJdbq"
      },
      "outputs": [],
      "source": [
        "aspect_c = defaultdict(list)\n",
        "for i in aspects:\n",
        "  similar = model.wv.most_similar(positive=i)\n",
        "  for w, s in similar:\n",
        "    aspect_c[i].append(w)"
      ]
    },
    {
      "cell_type": "code",
      "execution_count": null,
      "metadata": {
        "id": "XVFYLqIVJdbq"
      },
      "outputs": [],
      "source": [
        "category = dict(aspect_c)"
      ]
    },
    {
      "cell_type": "code",
      "source": [
        "category"
      ],
      "metadata": {
        "colab": {
          "base_uri": "https://localhost:8080/"
        },
        "id": "rNorZ9KqY0EV",
        "outputId": "5064b3f2-87e1-41aa-908f-842994d5f7f1"
      },
      "execution_count": null,
      "outputs": [
        {
          "output_type": "execute_result",
          "data": {
            "text/plain": [
              "{'area': ['hex',\n",
              "  'location',\n",
              "  'region',\n",
              "  'territory',\n",
              "  'zone',\n",
              "  'space',\n",
              "  'country',\n",
              "  'uncontested',\n",
              "  'duchy',\n",
              "  'unoccupied'],\n",
              " 'army': ['corp',\n",
              "  'corps',\n",
              "  'armies',\n",
              "  'leven',\n",
              "  'homeland',\n",
              "  'longstreet',\n",
              "  'subordinate',\n",
              "  'fe',\n",
              "  'brigade',\n",
              "  'liège'],\n",
              " 'attack': ['tack',\n",
              "  'df',\n",
              "  'airstrike',\n",
              "  'assaulting',\n",
              "  'defend',\n",
              "  'combat',\n",
              "  'fense',\n",
              "  'attacking',\n",
              "  'tacking',\n",
              "  'strafe'],\n",
              " 'attacker': ['tacker',\n",
              "  'defender',\n",
              "  'the defender',\n",
              "  'the attacker',\n",
              "  'fender',\n",
              "  'defending',\n",
              "  'loser',\n",
              "  'bouncer',\n",
              "  'shifts',\n",
              "  'forego'],\n",
              " 'battle': ['bat',\n",
              "  'combat',\n",
              "  'disaster',\n",
              "  'siege',\n",
              "  'aftermath',\n",
              "  'loser',\n",
              "  'winning',\n",
              "  'napoleon',\n",
              "  'audacity',\n",
              "  'skirmish'],\n",
              " 'combat': ['bat',\n",
              "  'antiaircraft',\n",
              "  'dmr',\n",
              "  'bombardment',\n",
              "  'df',\n",
              "  'attack',\n",
              "  'halving',\n",
              "  'ranged',\n",
              "  'overruns',\n",
              "  'airdrops'],\n",
              " 'command': ['mand',\n",
              "  'commanding',\n",
              "  'plt',\n",
              "  'subordinate',\n",
              "  'oc',\n",
              "  'pw',\n",
              "  'activation',\n",
              "  'activate',\n",
              "  'mands',\n",
              "  'activated'],\n",
              " 'control': ['trol',\n",
              "  'troll',\n",
              "  'recapture',\n",
              "  'controlled',\n",
              "  'trolled',\n",
              "  'trols',\n",
              "  'pied',\n",
              "  'capture',\n",
              "  'conquered',\n",
              "  'ling'],\n",
              " 'defender': ['attacker',\n",
              "  'tacker',\n",
              "  'the defender',\n",
              "  'the attacker',\n",
              "  'defending',\n",
              "  'fender',\n",
              "  'defend',\n",
              "  'loser',\n",
              "  'dt',\n",
              "  'beneficial'],\n",
              " 'die': ['die roll',\n",
              "  'dice',\n",
              "  'roll',\n",
              "  'unmodified',\n",
              "  'reroll',\n",
              "  'modified',\n",
              "  'a die',\n",
              "  'sar',\n",
              "  'rnc',\n",
              "  'severity'],\n",
              " 'end': ['conclude',\n",
              "  'end of',\n",
              "  'conclusion',\n",
              "  'begin',\n",
              "  'finish',\n",
              "  'strat',\n",
              "  'earlier',\n",
              "  'continue',\n",
              "  'impulses',\n",
              "  'armistice'],\n",
              " 'enemy': ['emy',\n",
              "  'enemy unit',\n",
              "  'opposing',\n",
              "  'detected',\n",
              "  'friendly',\n",
              "  'zoi',\n",
              "  'evading',\n",
              "  'fzs',\n",
              "  'an enemy',\n",
              "  'retreating'],\n",
              " 'force': ['tfs',\n",
              "  'coordinating',\n",
              "  'merchantman',\n",
              "  'forced',\n",
              "  'fleet',\n",
              "  'nas',\n",
              "  'army',\n",
              "  'carrier',\n",
              "  'expedition',\n",
              "  'hiryu'],\n",
              " 'hex': ['hexes',\n",
              "  'orchard',\n",
              "  'uncontested',\n",
              "  'connecting',\n",
              "  'containing',\n",
              "  'hexsides',\n",
              "  'polder',\n",
              "  'hexside',\n",
              "  'area',\n",
              "  'vacant'],\n",
              " 'infantry': ['fantry',\n",
              "  'infantry unit',\n",
              "  'cuirassier',\n",
              "  'bicycle',\n",
              "  'jaeger',\n",
              "  'panzergrenadier',\n",
              "  'mech',\n",
              "  'inf',\n",
              "  'cav',\n",
              "  'paratroop'],\n",
              " 'leader': ['brock',\n",
              "  'mander',\n",
              "  'samurai',\n",
              "  'cu',\n",
              "  'tecumseh',\n",
              "  'subordinate',\n",
              "  'cornwallis',\n",
              "  'hanno',\n",
              "  'commander',\n",
              "  'crusader'],\n",
              " 'map': ['superimpose',\n",
              "  'mapboards',\n",
              "  'grid',\n",
              "  'compass',\n",
              "  'board',\n",
              "  'edge',\n",
              "  'hexagon',\n",
              "  'regulate',\n",
              "  'convenient',\n",
              "  'mapsheet'],\n",
              " 'move': ['reposition',\n",
              "  'enter',\n",
              "  'vated',\n",
              "  'travel',\n",
              "  'activated',\n",
              "  'activate',\n",
              "  'exit',\n",
              "  'drop',\n",
              "  'redeploy',\n",
              "  'moving'],\n",
              " 'movement': ['ment',\n",
              "  'movement phase',\n",
              "  'redeployment',\n",
              "  'mp',\n",
              "  'zoi',\n",
              "  'mf',\n",
              "  'entrain',\n",
              "  'prohibition',\n",
              "  'exploitation',\n",
              "  'tegic'],\n",
              " 'point': ['bps',\n",
              "  'xps',\n",
              "  'ep',\n",
              "  'dep',\n",
              "  'unspent',\n",
              "  'eps',\n",
              "  'xp',\n",
              "  'pp',\n",
              "  'gop',\n",
              "  'fixed'],\n",
              " 'retreat': ['overstacking',\n",
              "  'overstack',\n",
              "  'dmr',\n",
              "  'vacate',\n",
              "  'aac',\n",
              "  'elimination',\n",
              "  'survivor',\n",
              "  'involuntarily',\n",
              "  'overwhelm',\n",
              "  'overstacked'],\n",
              " 'roll': ['unmodified',\n",
              "  'a die',\n",
              "  'modified',\n",
              "  'die',\n",
              "  'sar',\n",
              "  'die roll',\n",
              "  'modifies',\n",
              "  'consult',\n",
              "  'dr',\n",
              "  'rolling'],\n",
              " 'side': ['flip',\n",
              "  'villeneuve',\n",
              "  'flipped',\n",
              "  'backside',\n",
              "  'committed',\n",
              "  'er',\n",
              "  'debater',\n",
              "  'reverse',\n",
              "  'undetected',\n",
              "  'asu'],\n",
              " 'space': ['region',\n",
              "  'unbesieged',\n",
              "  'ravage',\n",
              "  'duchy',\n",
              "  'territory',\n",
              "  'unoccupied',\n",
              "  'provincial',\n",
              "  'province',\n",
              "  'uncontrolled',\n",
              "  'argo'],\n",
              " 'supply': ['ply',\n",
              "  'overland',\n",
              "  'isolate',\n",
              "  'continuous',\n",
              "  'isolated',\n",
              "  'communication',\n",
              "  'oos',\n",
              "  'tracing',\n",
              "  'unsupplied',\n",
              "  'comm'],\n",
              " 'target': ['incendiary',\n",
              "  'firer',\n",
              "  'the target',\n",
              "  'firing',\n",
              "  'targeting',\n",
              "  'strafe',\n",
              "  'strafing',\n",
              "  'detected',\n",
              "  'sam',\n",
              "  'targeted']}"
            ]
          },
          "metadata": {},
          "execution_count": 48
        }
      ]
    },
    {
      "cell_type": "code",
      "source": [
        "category = {'area': ['hex', 'location', 'region', 'territory', 'zone', 'space', 'country', 'uncontested', 'duchy', 'unoccupied'],\n",
        "            'army': ['corp', 'corps', 'armies', 'leven', 'homeland', 'longstreet', 'subordinate', 'fe', 'brigade', 'liège'],\n",
        "            'attack': ['tack', 'df', 'airstrike', 'assaulting', 'defend', 'combat', 'fense', 'attacking', 'tacking', 'strafe'],\n",
        "            'attacker': ['tacker', 'defender', 'the defender', 'the attacker', 'fender', 'defending', 'loser', 'bouncer', 'shifts', 'forego'],\n",
        "            'battle': ['bat', 'combat', 'disaster', 'siege', 'aftermath', 'loser', 'winning', 'napoleon', 'audacity', 'skirmish'],\n",
        "            'combat': ['bat', 'antiaircraft', 'dmr', 'bombardment', 'df', 'attack', 'halving', 'ranged', 'overruns', 'airdrops'],\n",
        "            'command': ['mand', 'commanding', 'plt', 'subordinate', 'oc', 'pw', 'activation', 'activate', 'mands', 'activated'],\n",
        "            'control': ['trol', 'troll', 'recapture', 'controlled', 'trolled', 'trols', 'pied', 'capture', 'conquered', 'ling'],\n",
        "            'defender': ['attacker', 'tacker', 'the defender', 'the attacker', 'defending', 'fender', 'defend', 'loser', 'dt', 'beneficial'],\n",
        "            'die': ['die roll', 'dice', 'roll', 'unmodified', 'reroll', 'modified', 'a die', 'sar', 'rnc', 'severity'],\n",
        "            'end': ['conclude', 'end of', 'conclusion', 'begin', 'finish', 'strat', 'earlier', 'continue', 'impulses', 'armistice'],\n",
        "            'enemy': ['emy', 'enemy unit', 'opposing', 'detected', 'friendly', 'zoi', 'evading', 'fzs', 'an enemy', 'retreating'],\n",
        "            'force': ['tfs', 'coordinating', 'merchantman', 'forced', 'fleet', 'nas', 'army', 'carrier', 'expedition', 'hiryu'],\n",
        "            'hex': ['hexes', 'orchard', 'uncontested', 'connecting', 'containing', 'hexsides', 'polder', 'hexside', 'area', 'vacant'],\n",
        "            'infantry': ['fantry', 'infantry unit', 'cuirassier', 'bicycle', 'jaeger', 'panzergrenadier', 'mech', 'inf', 'cav', 'paratroop'],\n",
        "            'leader': ['brock', 'mander', 'samurai', 'cu', 'tecumseh', 'subordinate', 'cornwallis', 'hanno', 'commander', 'crusader'],\n",
        "            'map': ['superimpose', 'mapboards', 'grid', 'compass', 'board', 'edge', 'hexagon', 'regulate', 'convenient', 'mapsheet'],\n",
        "            'move': ['reposition', 'enter', 'vated', 'travel', 'activated', 'activate', 'exit', 'drop', 'redeploy', 'moving'],\n",
        "            'movement': ['ment', 'movement phase', 'redeployment', 'mp', 'zoi', 'mf', 'entrain', 'prohibition', 'exploitation', 'tegic'],\n",
        "            'point': ['bps', 'xps', 'ep', 'dep', 'unspent', 'eps', 'xp', 'pp', 'gop', 'fixed'],\n",
        "            'retreat': ['overstacking', 'overstack', 'dmr', 'vacate', 'aac', 'elimination', 'survivor', 'involuntarily','overwhelm', 'overstacked'],\n",
        "            'roll': ['unmodified', 'a die', 'modified', 'die', 'sar', 'die roll', 'modifies', 'consult', 'dr', 'rolling'],\n",
        "            'side': ['flip', 'villeneuve', 'flipped', 'backside', 'committed', 'er', 'debater', 'reverse', 'undetected', 'asu'],\n",
        "            'space': ['region', 'unbesieged', 'ravage', 'duchy', 'territory', 'unoccupied', 'provincial', 'province', 'uncontrolled', 'argo'],\n",
        "            'supply': ['ply', 'overland', 'isolate', 'continuous', 'isolated', 'communication', 'oos', 'tracing', 'unsupplied', 'comm'],\n",
        "            'target': ['incendiary', 'firer', 'the target', 'firing', 'targeting', 'strafe', 'strafing', 'detected', 'sam', 'targeted']}"
      ],
      "metadata": {
        "id": "t_Yl7msCZhS1"
      },
      "execution_count": null,
      "outputs": []
    },
    {
      "cell_type": "code",
      "source": [
        "category = {'area': ['hex', 'location', 'region', 'territory', 'zone', 'space', 'country', 'uncontested', 'duchy', 'unoccupied','hex', 'hexes', 'orchard', 'uncontested', 'connecting', 'containing', 'hexsides', 'polder', 'hexside', 'vacant', 'region', 'unbesieged', 'ravage', 'duchy', 'territory', 'unoccupied', 'provincial', 'province', 'uncontrolled', 'argo'],\n",
        "            'attack': ['tack', 'df', 'airstrike', 'assaulting', 'defend', 'combat', 'fense', 'attacking', 'tacking', 'strafe', 'bat', 'antiaircraft', 'dmr', 'bombardment', 'df', 'attack', 'halving', 'ranged', 'overruns', 'airdrops', 'battle', 'bat', 'disaster', 'siege', 'aftermath', 'loser', 'winning', 'napoleon', 'audacity', 'skirmish'],\n",
        "            'attacker': ['tacker', 'defender', 'the defender', 'the attacker', 'fender', 'defending', 'loser', 'bouncer', 'shifts', 'forego', 'defender', 'attacker', 'tacker', 'the defender', 'the attacker', 'defending', 'fender', 'defend', 'loser', 'dt', 'beneficial'],\n",
        "            'command': ['mand', 'commanding', 'plt', 'subordinate', 'oc', 'pw', 'activation', 'activate', 'mands', 'activated'],\n",
        "            'control': ['trol', 'troll', 'recapture', 'controlled', 'trolled', 'trols', 'pied', 'capture', 'conquered', 'ling'],\n",
        "            'die': ['die roll', 'dice', 'roll', 'unmodified', 'reroll', 'modified', 'a die', 'sar', 'rnc', 'severity', 'unmodified', 'a die', 'modified', 'die', 'sar', 'die roll', 'modifies', 'consult', 'dr', 'rolling'],\n",
        "            'end': ['conclude', 'end of', 'conclusion', 'begin', 'finish', 'strat', 'earlier', 'continue', 'impulses', 'armistice'],\n",
        "            'enemy': ['emy', 'enemy unit', 'opposing', 'detected', 'friendly', 'zoi', 'evading', 'fzs', 'an enemy', 'retreating'],\n",
        "            'force': ['tfs', 'coordinating', 'merchantman', 'forced', 'fleet', 'nas', 'army', 'carrier', 'expedition', 'hiryu', 'corp', 'corps', 'armies', 'leven', 'homeland', 'longstreet', 'subordinate', 'fe', 'brigade', 'liège'],\n",
        "            'infantry': ['fantry', 'infantry unit', 'cuirassier', 'bicycle', 'jaeger', 'panzergrenadier', 'mech', 'inf', 'cav', 'paratroop'],\n",
        "            'leader': ['brock', 'mander', 'samurai', 'cu', 'tecumseh', 'subordinate', 'cornwallis', 'hanno', 'commander', 'crusader'],\n",
        "            'map': ['superimpose', 'mapboards', 'grid', 'compass', 'board', 'edge', 'hexagon', 'regulate', 'convenient', 'mapsheet'],\n",
        "            'movement': ['ment', 'movement phase', 'redeployment', 'mp', 'zoi', 'mf', 'entrain', 'prohibition', 'exploitation', 'tegic', 'move', 'reposition', 'enter', 'vated', 'travel', 'activated', 'activate', 'exit', 'drop', 'redeploy', 'moving'],\n",
        "            'point': ['bps', 'xps', 'ep', 'dep', 'unspent', 'eps', 'xp', 'pp', 'gop', 'fixed'],\n",
        "            'retreat': ['overstacking', 'overstack', 'dmr', 'vacate', 'aac', 'elimination', 'survivor', 'involuntarily','overwhelm', 'overstacked'],\n",
        "            'side': ['flip', 'villeneuve', 'flipped', 'backside', 'committed', 'er', 'debater', 'reverse', 'undetected', 'asu'],\n",
        "            'supply': ['ply', 'overland', 'isolate', 'continuous', 'isolated', 'communication', 'oos', 'tracing', 'unsupplied', 'comm'],\n",
        "            'target': ['incendiary', 'firer', 'the target', 'firing', 'targeting', 'strafe', 'strafing', 'detected', 'sam', 'targeted']}"
      ],
      "metadata": {
        "id": "eGk-zSihhRxj"
      },
      "execution_count": null,
      "outputs": []
    },
    {
      "cell_type": "code",
      "execution_count": null,
      "metadata": {
        "id": "Wa-biR8qJdbq"
      },
      "outputs": [],
      "source": [
        "for (a, s) in category.items():\n",
        "  for wor in s:\n",
        "    w,t = nltk.pos_tag([wor])[0]\n",
        "    if t[0] != 'N':\n",
        "      category[a].remove(wor)"
      ]
    },
    {
      "cell_type": "code",
      "execution_count": null,
      "metadata": {
        "id": "JfIT3YpTJdbq"
      },
      "outputs": [],
      "source": [
        "for k in category.keys():\n",
        "  category[k].append(k)"
      ]
    },
    {
      "cell_type": "code",
      "execution_count": null,
      "metadata": {
        "id": "GD6295sWJdbq"
      },
      "outputs": [],
      "source": [
        "c_v = [wor for k,v in category.items() for wor in v]"
      ]
    },
    {
      "cell_type": "code",
      "execution_count": null,
      "metadata": {
        "id": "O5OM5zVBJdbq"
      },
      "outputs": [],
      "source": [
        "dd = [] # the cleaned description collection\n",
        "for com in com_sent:\n",
        "  ccc = []\n",
        "  for sent in com:\n",
        "    ss = []\n",
        "    for wor in sent:\n",
        "      if wor not in c_v:\n",
        "        ss.append(wor)\n",
        "      else:\n",
        "        for k in category.keys():\n",
        "          if wor in category[k]:\n",
        "            ss.append(k)\n",
        "    ccc.append(ss)\n",
        "  dd.append(ccc)"
      ]
    },
    {
      "cell_type": "code",
      "source": [
        "ddd = [] # rule as items\n",
        "for i in dd:\n",
        "  sss = []\n",
        "  for j in i:\n",
        "    if j != []:\n",
        "      sss.append(j)\n",
        "  ddd.append(sss)"
      ],
      "metadata": {
        "id": "281cQmXQltV7"
      },
      "execution_count": null,
      "outputs": []
    },
    {
      "cell_type": "markdown",
      "source": [
        "# 3 COIN SERIES"
      ],
      "metadata": {
        "id": "NtSimeJJmMX4"
      }
    },
    {
      "cell_type": "markdown",
      "source": [
        "## 3.1 Text Cleaning"
      ],
      "metadata": {
        "id": "5-3026UVoslk"
      }
    },
    {
      "cell_type": "code",
      "source": [
        "sentences = [] # each description as a doc\n",
        "for i in coin_rule:\n",
        "    s = sent_tokenize(i)\n",
        "    sentences.append(s)"
      ],
      "metadata": {
        "id": "1N7ZxL82qnP-"
      },
      "execution_count": null,
      "outputs": []
    },
    {
      "cell_type": "code",
      "source": [
        "# tokenization\n",
        "token_list= []\n",
        "for i in sentences: # i is comment level\n",
        "    for j in i:\n",
        "      tokens = word_tokenize(j)\n",
        "      words = [word for word in tokens if word.isalpha()]\n",
        "      words = [word.lower() for word in words]\n",
        "      token_list.append(words)"
      ],
      "metadata": {
        "id": "0mVMvhAhqnP-"
      },
      "execution_count": null,
      "outputs": []
    },
    {
      "cell_type": "code",
      "source": [
        "# lemmatization\n",
        "lemmatizer = WordNetLemmatizer() \n",
        "def pos_tagger(nltk_tag): \n",
        "    if nltk_tag.startswith('J'): \n",
        "        return wordnet.ADJ \n",
        "    elif nltk_tag.startswith('V'): \n",
        "        return wordnet.VERB \n",
        "    elif nltk_tag.startswith('N'): \n",
        "        return wordnet.NOUN \n",
        "    elif nltk_tag.startswith('R'): \n",
        "        return wordnet.ADV \n",
        "    else:           \n",
        "        return None\n",
        "lemma_list = []\n",
        "for i in token_list:\n",
        "  pos_tagged = nltk.pos_tag(i)\n",
        "  wordnet_tagged = list(map(lambda x: (x[0], pos_tagger(x[1])), pos_tagged))\n",
        "  lemma = [] \n",
        "  for word, tag in wordnet_tagged:\n",
        "    if word == \"i\":\n",
        "      continue\n",
        "    if tag is None: \n",
        "      # if there is no available tag, append the token as is \n",
        "      lemma.append(word) \n",
        "    else:         \n",
        "      # else use the tag to lemmatize the token \n",
        "      lemma.append(lemmatizer.lemmatize(word, tag))\n",
        "  lemma_list.append(lemma)"
      ],
      "metadata": {
        "id": "eutW5gHoqnP-"
      },
      "execution_count": null,
      "outputs": []
    },
    {
      "cell_type": "code",
      "execution_count": null,
      "metadata": {
        "id": "EO0RpDm4Kd8H"
      },
      "outputs": [],
      "source": [
        "bi = []\n",
        "for item in lemma_list:\n",
        "  grams = [item[i:i+2] for i in range(len(item)-2+1)]\n",
        "  bigrams = [' '.join(j) for j in grams]\n",
        "  bi.append(bigrams)"
      ]
    },
    {
      "cell_type": "code",
      "execution_count": null,
      "metadata": {
        "id": "shmuoSJHKd8Q"
      },
      "outputs": [],
      "source": [
        "bi_v = [bigram for i in bi for bigram in i]\n",
        "uni_v = [unigram for i in lemma_list for unigram in i]"
      ]
    },
    {
      "cell_type": "code",
      "execution_count": null,
      "metadata": {
        "id": "w5b0feshKd8Q"
      },
      "outputs": [],
      "source": [
        "counter_bi = Counter(bi_v)\n",
        "counter_uni = Counter(uni_v)"
      ]
    },
    {
      "cell_type": "code",
      "execution_count": null,
      "metadata": {
        "id": "lz1EV6TaKd8Q"
      },
      "outputs": [],
      "source": [
        "# filter before computing for less noise\n",
        "for i in list(counter_bi.keys()):\n",
        "  if i.split()[0] in stopwords.words('english'):\n",
        "    if i.split()[1] in stopwords.words('english'):\n",
        "      counter_bi.pop(i)"
      ]
    },
    {
      "cell_type": "code",
      "execution_count": null,
      "metadata": {
        "id": "r6At1HmkKd8Q"
      },
      "outputs": [],
      "source": [
        "for i in list(counter_bi.keys()):\n",
        "  w,t = nltk.pos_tag(i.split())[0]\n",
        "  w1,t1 = nltk.pos_tag(i.split())[1]\n",
        "  if t[0] != \"N\":\n",
        "    if t1[0] != \"N\":\n",
        "      counter_bi.pop(i)"
      ]
    },
    {
      "cell_type": "code",
      "execution_count": null,
      "metadata": {
        "id": "WXK37SZnKd8R"
      },
      "outputs": [],
      "source": [
        "def pmi_index(bigram):\n",
        "  a, b = bigram.split()\n",
        "  try:\n",
        "    pmi = math.log(counter_bi[bigram]/((counter_uni[a]-counter_bi[bigram])*(counter_uni[b]-counter_bi[bigram])/(len(uni_v)-counter_bi[a])))\n",
        "  except ZeroDivisionError:\n",
        "    pmi = 100\n",
        "  return pmi"
      ]
    },
    {
      "cell_type": "code",
      "execution_count": null,
      "metadata": {
        "id": "GYEgrBpZKd8R"
      },
      "outputs": [],
      "source": [
        "counter_b = counter_bi.most_common(100)"
      ]
    },
    {
      "cell_type": "code",
      "execution_count": null,
      "metadata": {
        "id": "laMGuz4rKd8R"
      },
      "outputs": [],
      "source": [
        "bi_gram_list = [k for (k,v) in counter_b]"
      ]
    },
    {
      "cell_type": "code",
      "execution_count": null,
      "metadata": {
        "id": "HlAMR6I6Kd8R"
      },
      "outputs": [],
      "source": [
        "frequency = [v for (k,v) in counter_b]"
      ]
    },
    {
      "cell_type": "code",
      "execution_count": null,
      "metadata": {
        "id": "ozRgcrGMKd8R"
      },
      "outputs": [],
      "source": [
        "pmi = [pmi_index(k) for (k,v) in counter_b]"
      ]
    },
    {
      "cell_type": "code",
      "execution_count": null,
      "metadata": {
        "id": "c0SK91ehKd8R"
      },
      "outputs": [],
      "source": [
        "fre_df = pd.DataFrame({\"bigram\":bi_gram_list, \"pmi\":pmi, \"frequency\": frequency})"
      ]
    },
    {
      "cell_type": "code",
      "execution_count": null,
      "metadata": {
        "colab": {
          "base_uri": "https://localhost:8080/",
          "height": 1000
        },
        "outputId": "652dfb6f-52ca-4641-eaf5-207b4bcc82f5",
        "id": "ZYcU0n5wKd8R"
      },
      "outputs": [
        {
          "output_type": "execute_result",
          "data": {
            "text/html": [
              "\n",
              "  <div id=\"df-e53865e3-cb6f-4af1-a841-8cc054623cde\">\n",
              "    <div class=\"colab-df-container\">\n",
              "      <div>\n",
              "<style scoped>\n",
              "    .dataframe tbody tr th:only-of-type {\n",
              "        vertical-align: middle;\n",
              "    }\n",
              "\n",
              "    .dataframe tbody tr th {\n",
              "        vertical-align: top;\n",
              "    }\n",
              "\n",
              "    .dataframe thead th {\n",
              "        text-align: right;\n",
              "    }\n",
              "</style>\n",
              "<table border=\"1\" class=\"dataframe\">\n",
              "  <thead>\n",
              "    <tr style=\"text-align: right;\">\n",
              "      <th></th>\n",
              "      <th>bigram</th>\n",
              "      <th>pmi</th>\n",
              "      <th>frequency</th>\n",
              "    </tr>\n",
              "  </thead>\n",
              "  <tbody>\n",
              "    <tr>\n",
              "      <th>52</th>\n",
              "      <td>the following</td>\n",
              "      <td>100.000000</td>\n",
              "      <td>104</td>\n",
              "    </tr>\n",
              "    <tr>\n",
              "      <th>17</th>\n",
              "      <td>muslim league</td>\n",
              "      <td>11.992768</td>\n",
              "      <td>190</td>\n",
              "    </tr>\n",
              "    <tr>\n",
              "      <th>6</th>\n",
              "      <td>game llc</td>\n",
              "      <td>10.554140</td>\n",
              "      <td>319</td>\n",
              "    </tr>\n",
              "    <tr>\n",
              "      <th>23</th>\n",
              "      <td>war party</td>\n",
              "      <td>10.429434</td>\n",
              "      <td>155</td>\n",
              "    </tr>\n",
              "    <tr>\n",
              "      <th>0</th>\n",
              "      <td>special activity</td>\n",
              "      <td>9.406484</td>\n",
              "      <td>679</td>\n",
              "    </tr>\n",
              "    <tr>\n",
              "      <th>57</th>\n",
              "      <td>design note</td>\n",
              "      <td>8.915134</td>\n",
              "      <td>102</td>\n",
              "    </tr>\n",
              "    <tr>\n",
              "      <th>68</th>\n",
              "      <td>draw deck</td>\n",
              "      <td>8.497223</td>\n",
              "      <td>93</td>\n",
              "    </tr>\n",
              "    <tr>\n",
              "      <th>40</th>\n",
              "      <td>pivotal event</td>\n",
              "      <td>7.708811</td>\n",
              "      <td>117</td>\n",
              "    </tr>\n",
              "    <tr>\n",
              "      <th>32</th>\n",
              "      <td>victory margin</td>\n",
              "      <td>7.493477</td>\n",
              "      <td>126</td>\n",
              "    </tr>\n",
              "    <tr>\n",
              "      <th>15</th>\n",
              "      <td>t game</td>\n",
              "      <td>7.170651</td>\n",
              "      <td>200</td>\n",
              "    </tr>\n",
              "    <tr>\n",
              "      <th>51</th>\n",
              "      <td>special ability</td>\n",
              "      <td>6.947798</td>\n",
              "      <td>105</td>\n",
              "    </tr>\n",
              "    <tr>\n",
              "      <th>86</th>\n",
              "      <td>priority table</td>\n",
              "      <td>6.718730</td>\n",
              "      <td>86</td>\n",
              "    </tr>\n",
              "    <tr>\n",
              "      <th>35</th>\n",
              "      <td>propaganda round</td>\n",
              "      <td>6.547091</td>\n",
              "      <td>124</td>\n",
              "    </tr>\n",
              "    <tr>\n",
              "      <th>19</th>\n",
              "      <td>sequence of</td>\n",
              "      <td>5.787066</td>\n",
              "      <td>187</td>\n",
              "    </tr>\n",
              "    <tr>\n",
              "      <th>74</th>\n",
              "      <td>limited command</td>\n",
              "      <td>5.680990</td>\n",
              "      <td>91</td>\n",
              "    </tr>\n",
              "    <tr>\n",
              "      <th>2</th>\n",
              "      <td>number of</td>\n",
              "      <td>5.557514</td>\n",
              "      <td>399</td>\n",
              "    </tr>\n",
              "    <tr>\n",
              "      <th>14</th>\n",
              "      <td>as follow</td>\n",
              "      <td>5.380143</td>\n",
              "      <td>202</td>\n",
              "    </tr>\n",
              "    <tr>\n",
              "      <th>25</th>\n",
              "      <td>if none</td>\n",
              "      <td>5.277105</td>\n",
              "      <td>140</td>\n",
              "    </tr>\n",
              "    <tr>\n",
              "      <th>56</th>\n",
              "      <td>coin control</td>\n",
              "      <td>5.210727</td>\n",
              "      <td>103</td>\n",
              "    </tr>\n",
              "    <tr>\n",
              "      <th>94</th>\n",
              "      <td>limited operation</td>\n",
              "      <td>5.190969</td>\n",
              "      <td>82</td>\n",
              "    </tr>\n",
              "    <tr>\n",
              "      <th>37</th>\n",
              "      <td>underground guerrilla</td>\n",
              "      <td>4.767868</td>\n",
              "      <td>121</td>\n",
              "    </tr>\n",
              "    <tr>\n",
              "      <th>48</th>\n",
              "      <td>next card</td>\n",
              "      <td>4.612081</td>\n",
              "      <td>110</td>\n",
              "    </tr>\n",
              "    <tr>\n",
              "      <th>36</th>\n",
              "      <td>event text</td>\n",
              "      <td>4.433142</td>\n",
              "      <td>122</td>\n",
              "    </tr>\n",
              "    <tr>\n",
              "      <th>60</th>\n",
              "      <td>raj control</td>\n",
              "      <td>4.382017</td>\n",
              "      <td>99</td>\n",
              "    </tr>\n",
              "    <tr>\n",
              "      <th>64</th>\n",
              "      <td>available force</td>\n",
              "      <td>4.380511</td>\n",
              "      <td>95</td>\n",
              "    </tr>\n",
              "    <tr>\n",
              "      <th>7</th>\n",
              "      <td>the map</td>\n",
              "      <td>4.065395</td>\n",
              "      <td>308</td>\n",
              "    </tr>\n",
              "    <tr>\n",
              "      <th>16</th>\n",
              "      <td>eligible faction</td>\n",
              "      <td>4.062408</td>\n",
              "      <td>197</td>\n",
              "    </tr>\n",
              "    <tr>\n",
              "      <th>43</th>\n",
              "      <td>enemy piece</td>\n",
              "      <td>4.017391</td>\n",
              "      <td>114</td>\n",
              "    </tr>\n",
              "    <tr>\n",
              "      <th>21</th>\n",
              "      <td>an operation</td>\n",
              "      <td>4.013180</td>\n",
              "      <td>164</td>\n",
              "    </tr>\n",
              "    <tr>\n",
              "      <th>76</th>\n",
              "      <td>the draw</td>\n",
              "      <td>3.852078</td>\n",
              "      <td>88</td>\n",
              "    </tr>\n",
              "    <tr>\n",
              "      <th>11</th>\n",
              "      <td>faction s</td>\n",
              "      <td>3.824927</td>\n",
              "      <td>239</td>\n",
              "    </tr>\n",
              "    <tr>\n",
              "      <th>41</th>\n",
              "      <td>play note</td>\n",
              "      <td>3.717422</td>\n",
              "      <td>115</td>\n",
              "    </tr>\n",
              "    <tr>\n",
              "      <th>91</th>\n",
              "      <td>np faction</td>\n",
              "      <td>3.710562</td>\n",
              "      <td>83</td>\n",
              "    </tr>\n",
              "    <tr>\n",
              "      <th>45</th>\n",
              "      <td>resource per</td>\n",
              "      <td>3.672255</td>\n",
              "      <td>114</td>\n",
              "    </tr>\n",
              "    <tr>\n",
              "      <th>8</th>\n",
              "      <td>event card</td>\n",
              "      <td>3.518019</td>\n",
              "      <td>278</td>\n",
              "    </tr>\n",
              "    <tr>\n",
              "      <th>77</th>\n",
              "      <td>destination space</td>\n",
              "      <td>3.424511</td>\n",
              "      <td>88</td>\n",
              "    </tr>\n",
              "    <tr>\n",
              "      <th>1</th>\n",
              "      <td>space with</td>\n",
              "      <td>3.417791</td>\n",
              "      <td>497</td>\n",
              "    </tr>\n",
              "    <tr>\n",
              "      <th>61</th>\n",
              "      <td>in effect</td>\n",
              "      <td>3.413160</td>\n",
              "      <td>98</td>\n",
              "    </tr>\n",
              "    <tr>\n",
              "      <th>4</th>\n",
              "      <td>of play</td>\n",
              "      <td>3.365927</td>\n",
              "      <td>382</td>\n",
              "    </tr>\n",
              "    <tr>\n",
              "      <th>70</th>\n",
              "      <td>space where</td>\n",
              "      <td>3.001213</td>\n",
              "      <td>93</td>\n",
              "    </tr>\n",
              "    <tr>\n",
              "      <th>95</th>\n",
              "      <td>procedure in</td>\n",
              "      <td>2.984419</td>\n",
              "      <td>82</td>\n",
              "    </tr>\n",
              "    <tr>\n",
              "      <th>69</th>\n",
              "      <td>each select</td>\n",
              "      <td>2.978858</td>\n",
              "      <td>93</td>\n",
              "    </tr>\n",
              "    <tr>\n",
              "      <th>81</th>\n",
              "      <td>player may</td>\n",
              "      <td>2.888740</td>\n",
              "      <td>87</td>\n",
              "    </tr>\n",
              "    <tr>\n",
              "      <th>50</th>\n",
              "      <td>the sequence</td>\n",
              "      <td>2.857072</td>\n",
              "      <td>107</td>\n",
              "    </tr>\n",
              "    <tr>\n",
              "      <th>29</th>\n",
              "      <td>an event</td>\n",
              "      <td>2.826620</td>\n",
              "      <td>131</td>\n",
              "    </tr>\n",
              "    <tr>\n",
              "      <th>13</th>\n",
              "      <td>select space</td>\n",
              "      <td>2.766924</td>\n",
              "      <td>210</td>\n",
              "    </tr>\n",
              "    <tr>\n",
              "      <th>12</th>\n",
              "      <td>the number</td>\n",
              "      <td>2.765962</td>\n",
              "      <td>227</td>\n",
              "    </tr>\n",
              "    <tr>\n",
              "      <th>46</th>\n",
              "      <td>execute faction</td>\n",
              "      <td>2.638780</td>\n",
              "      <td>113</td>\n",
              "    </tr>\n",
              "    <tr>\n",
              "      <th>71</th>\n",
              "      <td>rule of</td>\n",
              "      <td>2.562823</td>\n",
              "      <td>92</td>\n",
              "    </tr>\n",
              "    <tr>\n",
              "      <th>58</th>\n",
              "      <td>city or</td>\n",
              "      <td>2.517322</td>\n",
              "      <td>100</td>\n",
              "    </tr>\n",
              "  </tbody>\n",
              "</table>\n",
              "</div>\n",
              "      <button class=\"colab-df-convert\" onclick=\"convertToInteractive('df-e53865e3-cb6f-4af1-a841-8cc054623cde')\"\n",
              "              title=\"Convert this dataframe to an interactive table.\"\n",
              "              style=\"display:none;\">\n",
              "        \n",
              "  <svg xmlns=\"http://www.w3.org/2000/svg\" height=\"24px\"viewBox=\"0 0 24 24\"\n",
              "       width=\"24px\">\n",
              "    <path d=\"M0 0h24v24H0V0z\" fill=\"none\"/>\n",
              "    <path d=\"M18.56 5.44l.94 2.06.94-2.06 2.06-.94-2.06-.94-.94-2.06-.94 2.06-2.06.94zm-11 1L8.5 8.5l.94-2.06 2.06-.94-2.06-.94L8.5 2.5l-.94 2.06-2.06.94zm10 10l.94 2.06.94-2.06 2.06-.94-2.06-.94-.94-2.06-.94 2.06-2.06.94z\"/><path d=\"M17.41 7.96l-1.37-1.37c-.4-.4-.92-.59-1.43-.59-.52 0-1.04.2-1.43.59L10.3 9.45l-7.72 7.72c-.78.78-.78 2.05 0 2.83L4 21.41c.39.39.9.59 1.41.59.51 0 1.02-.2 1.41-.59l7.78-7.78 2.81-2.81c.8-.78.8-2.07 0-2.86zM5.41 20L4 18.59l7.72-7.72 1.47 1.35L5.41 20z\"/>\n",
              "  </svg>\n",
              "      </button>\n",
              "      \n",
              "  <style>\n",
              "    .colab-df-container {\n",
              "      display:flex;\n",
              "      flex-wrap:wrap;\n",
              "      gap: 12px;\n",
              "    }\n",
              "\n",
              "    .colab-df-convert {\n",
              "      background-color: #E8F0FE;\n",
              "      border: none;\n",
              "      border-radius: 50%;\n",
              "      cursor: pointer;\n",
              "      display: none;\n",
              "      fill: #1967D2;\n",
              "      height: 32px;\n",
              "      padding: 0 0 0 0;\n",
              "      width: 32px;\n",
              "    }\n",
              "\n",
              "    .colab-df-convert:hover {\n",
              "      background-color: #E2EBFA;\n",
              "      box-shadow: 0px 1px 2px rgba(60, 64, 67, 0.3), 0px 1px 3px 1px rgba(60, 64, 67, 0.15);\n",
              "      fill: #174EA6;\n",
              "    }\n",
              "\n",
              "    [theme=dark] .colab-df-convert {\n",
              "      background-color: #3B4455;\n",
              "      fill: #D2E3FC;\n",
              "    }\n",
              "\n",
              "    [theme=dark] .colab-df-convert:hover {\n",
              "      background-color: #434B5C;\n",
              "      box-shadow: 0px 1px 3px 1px rgba(0, 0, 0, 0.15);\n",
              "      filter: drop-shadow(0px 1px 2px rgba(0, 0, 0, 0.3));\n",
              "      fill: #FFFFFF;\n",
              "    }\n",
              "  </style>\n",
              "\n",
              "      <script>\n",
              "        const buttonEl =\n",
              "          document.querySelector('#df-e53865e3-cb6f-4af1-a841-8cc054623cde button.colab-df-convert');\n",
              "        buttonEl.style.display =\n",
              "          google.colab.kernel.accessAllowed ? 'block' : 'none';\n",
              "\n",
              "        async function convertToInteractive(key) {\n",
              "          const element = document.querySelector('#df-e53865e3-cb6f-4af1-a841-8cc054623cde');\n",
              "          const dataTable =\n",
              "            await google.colab.kernel.invokeFunction('convertToInteractive',\n",
              "                                                     [key], {});\n",
              "          if (!dataTable) return;\n",
              "\n",
              "          const docLinkHtml = 'Like what you see? Visit the ' +\n",
              "            '<a target=\"_blank\" href=https://colab.research.google.com/notebooks/data_table.ipynb>data table notebook</a>'\n",
              "            + ' to learn more about interactive tables.';\n",
              "          element.innerHTML = '';\n",
              "          dataTable['output_type'] = 'display_data';\n",
              "          await google.colab.output.renderOutput(dataTable, element);\n",
              "          const docLink = document.createElement('div');\n",
              "          docLink.innerHTML = docLinkHtml;\n",
              "          element.appendChild(docLink);\n",
              "        }\n",
              "      </script>\n",
              "    </div>\n",
              "  </div>\n",
              "  "
            ],
            "text/plain": [
              "                   bigram         pmi  frequency\n",
              "52          the following  100.000000        104\n",
              "17          muslim league   11.992768        190\n",
              "6                game llc   10.554140        319\n",
              "23              war party   10.429434        155\n",
              "0        special activity    9.406484        679\n",
              "57            design note    8.915134        102\n",
              "68              draw deck    8.497223         93\n",
              "40          pivotal event    7.708811        117\n",
              "32         victory margin    7.493477        126\n",
              "15                 t game    7.170651        200\n",
              "51        special ability    6.947798        105\n",
              "86         priority table    6.718730         86\n",
              "35       propaganda round    6.547091        124\n",
              "19            sequence of    5.787066        187\n",
              "74        limited command    5.680990         91\n",
              "2               number of    5.557514        399\n",
              "14              as follow    5.380143        202\n",
              "25                if none    5.277105        140\n",
              "56           coin control    5.210727        103\n",
              "94      limited operation    5.190969         82\n",
              "37  underground guerrilla    4.767868        121\n",
              "48              next card    4.612081        110\n",
              "36             event text    4.433142        122\n",
              "60            raj control    4.382017         99\n",
              "64        available force    4.380511         95\n",
              "7                 the map    4.065395        308\n",
              "16       eligible faction    4.062408        197\n",
              "43            enemy piece    4.017391        114\n",
              "21           an operation    4.013180        164\n",
              "76               the draw    3.852078         88\n",
              "11              faction s    3.824927        239\n",
              "41              play note    3.717422        115\n",
              "91             np faction    3.710562         83\n",
              "45           resource per    3.672255        114\n",
              "8              event card    3.518019        278\n",
              "77      destination space    3.424511         88\n",
              "1              space with    3.417791        497\n",
              "61              in effect    3.413160         98\n",
              "4                 of play    3.365927        382\n",
              "70            space where    3.001213         93\n",
              "95           procedure in    2.984419         82\n",
              "69            each select    2.978858         93\n",
              "81             player may    2.888740         87\n",
              "50           the sequence    2.857072        107\n",
              "29               an event    2.826620        131\n",
              "13           select space    2.766924        210\n",
              "12             the number    2.765962        227\n",
              "46        execute faction    2.638780        113\n",
              "71                rule of    2.562823         92\n",
              "58                city or    2.517322        100"
            ]
          },
          "metadata": {},
          "execution_count": 73
        }
      ],
      "source": [
        "fre_most = fre_df.sort_values(by=\"pmi\", ascending=False).head(50)\n",
        "fre_most"
      ]
    },
    {
      "cell_type": "code",
      "source": [
        "select = fre_most.drop([6, 68, 15, 14, 25, 48, 60, 36, 7, 43, 21, 11, 41, 91, 45, 1, 61, 4, 70, 95, 69, 81, 13, 12, 71, 58], axis = 0)\n",
        "select_bi = select[\"bigram\"]"
      ],
      "metadata": {
        "id": "tjSN0CQlSlHS"
      },
      "execution_count": null,
      "outputs": []
    },
    {
      "cell_type": "code",
      "execution_count": null,
      "metadata": {
        "id": "GLr0GY8TVAly"
      },
      "outputs": [],
      "source": [
        "bi_dict = defaultdict(list)\n",
        "for bi in select_bi:\n",
        "  f,s = bi.split()\n",
        "  bi_dict[f].append(s)"
      ]
    },
    {
      "cell_type": "code",
      "execution_count": null,
      "metadata": {
        "id": "Ic-1KVVKVAl7"
      },
      "outputs": [],
      "source": [
        "sent_c = []\n",
        "for sent in lemma_list: \n",
        "  if len(sent) > 1:\n",
        "    sent_list = []\n",
        "    for i in range(len(sent)-1):\n",
        "      if sent[i] in list(bi_dict.keys()):\n",
        "        if sent[i+1] in bi_dict[sent[i]]:\n",
        "          bi = sent[i] + \" \" + sent[i+1]\n",
        "          sent_list.append(bi)\n",
        "        else:\n",
        "          if sent[i] not in stopwords.words('english'):\n",
        "            sent_list.append(sent[i])  \n",
        "      else:\n",
        "        if sent[i] not in stopwords.words('english'):\n",
        "          sent_list.append(sent[i]) \n",
        "    sent_c.append(sent_list)\n",
        "  elif len(sent) == 1:\n",
        "    if sent[0] not in stopwords.words('english'):\n",
        "      sent_c.append(sent)\n",
        "    else:\n",
        "      sent_c.append([])\n",
        "  else:\n",
        "    sent_c.append([])"
      ]
    },
    {
      "cell_type": "code",
      "source": [
        "coin_book = []\n",
        "n = 0\n",
        "num = 0\n",
        "for i in range(11):\n",
        "  r = []\n",
        "  n = num\n",
        "  num = n + len(sentences[i])\n",
        "  for m in range(n, num):\n",
        "    r.append(sent_c[m])\n",
        "  \n",
        "  coin_book.append(r)"
      ],
      "metadata": {
        "id": "Xbzrp5Fafm67"
      },
      "execution_count": null,
      "outputs": []
    },
    {
      "cell_type": "code",
      "source": [
        "sent1 = []\n",
        "for i in coin_book:\n",
        "  c = []\n",
        "  for sen in i:\n",
        "    cc = []\n",
        "    if len(sen) >1 :\n",
        "      for wor in sen:\n",
        "        if len(wor) > 1:\n",
        "          cc.append(wor)\n",
        "    c.append(cc)\n",
        "  sent1.append(c)"
      ],
      "metadata": {
        "id": "CyW_7gZZoIzw"
      },
      "execution_count": null,
      "outputs": []
    },
    {
      "cell_type": "markdown",
      "source": [
        "## 3.2 Semantic Meaning"
      ],
      "metadata": {
        "id": "MXpLbl_ZXCMH"
      }
    },
    {
      "cell_type": "code",
      "source": [
        "tutto = ddd + sent1"
      ],
      "metadata": {
        "id": "kIeuJz0iVWRE"
      },
      "execution_count": null,
      "outputs": []
    },
    {
      "cell_type": "code",
      "source": [
        "all_sent = [sent for rule in tutto for sent in rule]"
      ],
      "metadata": {
        "id": "rz_Ft2E9ZWuB"
      },
      "execution_count": null,
      "outputs": []
    },
    {
      "cell_type": "code",
      "source": [
        "all_sent = [sent for sent in all_sent if sent != []]"
      ],
      "metadata": {
        "id": "pcPuHEx9oYLb"
      },
      "execution_count": null,
      "outputs": []
    },
    {
      "cell_type": "code",
      "execution_count": null,
      "metadata": {
        "id": "s1ZyiUb6otVy"
      },
      "outputs": [],
      "source": [
        "def skip(sent, n=3, s=2):\n",
        "  k_grams = []\n",
        "  for i in range(len(sent)):\n",
        "    for z in range(s):\n",
        "      seq = [sent[i]] + sent[i+z+1:i+z+n]\n",
        "      if len(seq) == n and seq not in k_grams:\n",
        "        k_grams.append(list(seq))\n",
        "  return k_grams  "
      ]
    },
    {
      "cell_type": "code",
      "execution_count": null,
      "metadata": {
        "id": "nv-71nEzotVy"
      },
      "outputs": [],
      "source": [
        "sequences = []\n",
        "for i in all_sent:\n",
        "  l = skip(i)\n",
        "  sequences.append(l)"
      ]
    },
    {
      "cell_type": "code",
      "execution_count": null,
      "metadata": {
        "id": "YtzY3l-2otVy"
      },
      "outputs": [],
      "source": [
        "sequences = [sent for sent in sequences if sent != []]\n",
        "seq = [s for sent in sequences for s in sent]"
      ]
    },
    {
      "cell_type": "code",
      "execution_count": null,
      "metadata": {
        "id": "BzmV470notVy"
      },
      "outputs": [],
      "source": [
        "model = Word2Vec(seq, min_count=50)"
      ]
    },
    {
      "cell_type": "code",
      "source": [
        "topic = list(category.keys())"
      ],
      "metadata": {
        "id": "Tg_GVP0gou6F"
      },
      "execution_count": null,
      "outputs": []
    },
    {
      "cell_type": "code",
      "source": [
        "def topic_sent_relatedness(cat):\n",
        "  re = []\n",
        "  for ru in coin_full:\n",
        "    rr = []\n",
        "    for sent in ru:\n",
        "      mm = []\n",
        "      for wor in sent:\n",
        "        try:\n",
        "          simm = model.wv.similarity(wor, cat)\n",
        "        except KeyError:\n",
        "          simm = 0\n",
        "        mm.append(abs(simm))\n",
        "      rr.append(max(mm))\n",
        "    re.append(rr)\n",
        "  return re"
      ],
      "metadata": {
        "id": "LtLqceuUvVos"
      },
      "execution_count": null,
      "outputs": []
    },
    {
      "cell_type": "code",
      "source": [
        "coin_full = []\n",
        "for i in sent1:\n",
        "  cc = []\n",
        "  for sent in i:\n",
        "    if sent != []:\n",
        "      cc.append(sent)\n",
        "  coin_full.append(cc)"
      ],
      "metadata": {
        "id": "m4sBs9ocwh3V"
      },
      "execution_count": null,
      "outputs": []
    },
    {
      "cell_type": "code",
      "source": [
        "all_relat = []\n",
        "for i in topic:\n",
        "  re = topic_sent_relatedness(i)\n",
        "  all_relat.append(re)"
      ],
      "metadata": {
        "id": "bKBUO8Gjr08S"
      },
      "execution_count": null,
      "outputs": []
    },
    {
      "cell_type": "code",
      "source": [
        "relat_array = np.array(all_relat)\n",
        "np.array(relat_array,dtype=object).dump(open('/content/drive/MyDrive/information retrieval/topic_relate.npy', 'wb'))"
      ],
      "metadata": {
        "colab": {
          "base_uri": "https://localhost:8080/"
        },
        "id": "NsvLmf5tziIW",
        "outputId": "7eb2536b-dc70-4195-d782-5a901ac78641"
      },
      "execution_count": null,
      "outputs": [
        {
          "output_type": "stream",
          "name": "stderr",
          "text": [
            "/usr/local/lib/python3.7/dist-packages/ipykernel_launcher.py:1: VisibleDeprecationWarning: Creating an ndarray from ragged nested sequences (which is a list-or-tuple of lists-or-tuples-or ndarrays with different lengths or shapes) is deprecated. If you meant to do this, you must specify 'dtype=object' when creating the ndarray\n",
            "  \"\"\"Entry point for launching an IPython kernel.\n"
          ]
        }
      ]
    },
    {
      "cell_type": "code",
      "source": [
        "relat_array = np.load('/content/drive/MyDrive/information retrieval/topic_relate.npy', allow_pickle=True)\n",
        "all_relat = list(relat_array)"
      ],
      "metadata": {
        "id": "kO-K97E206CH"
      },
      "execution_count": null,
      "outputs": []
    },
    {
      "cell_type": "code",
      "source": [
        "df = pd.DataFrame(columns = topic)"
      ],
      "metadata": {
        "id": "6rLgaPdN7t2p"
      },
      "execution_count": null,
      "outputs": []
    },
    {
      "cell_type": "code",
      "source": [
        "def counting(n,r):\n",
        "  count = 0\n",
        "  for i in all_relat[n][r]:\n",
        "    if i > 0.5:\n",
        "      count +=1\n",
        "  return count"
      ],
      "metadata": {
        "id": "i0b9f9WC6IT8"
      },
      "execution_count": null,
      "outputs": []
    },
    {
      "cell_type": "code",
      "source": [
        "for t in range(len(topic)):\n",
        "  tt = topic[t]\n",
        "  c = []\n",
        "  for r in range(11):\n",
        "    c.append(counting(t, r))\n",
        "  df[tt] = c"
      ],
      "metadata": {
        "id": "B3ctFEeK8lrD"
      },
      "execution_count": null,
      "outputs": []
    },
    {
      "cell_type": "code",
      "source": [
        "df = df.drop(labels=3, axis=0).reset_index()"
      ],
      "metadata": {
        "id": "Bo51EV7a9wWR"
      },
      "execution_count": null,
      "outputs": []
    },
    {
      "cell_type": "code",
      "source": [
        "df.index = name"
      ],
      "metadata": {
        "id": "oVkNe3TCpz7y"
      },
      "execution_count": null,
      "outputs": []
    },
    {
      "cell_type": "code",
      "source": [
        "df = df.drop(['index'], axis = 1)"
      ],
      "metadata": {
        "id": "-VYZT9ey_okP"
      },
      "execution_count": null,
      "outputs": []
    },
    {
      "cell_type": "code",
      "source": [
        "df['rule_sum'] = df.sum(axis=1)"
      ],
      "metadata": {
        "id": "-l94UUajp-J_"
      },
      "execution_count": null,
      "outputs": []
    },
    {
      "cell_type": "code",
      "source": [
        "df = df.sort_values('rule_sum', axis=0, ascending=False)"
      ],
      "metadata": {
        "id": "ozJDRYDvrAJK"
      },
      "execution_count": null,
      "outputs": []
    },
    {
      "cell_type": "code",
      "source": [
        "for col in topic:\n",
        "  df.loc[df[col] <10, col] = 0"
      ],
      "metadata": {
        "id": "McvYsSOtwvc5"
      },
      "execution_count": null,
      "outputs": []
    },
    {
      "cell_type": "code",
      "source": [
        "df['aspect_num'] = list((df != 0).astype(int).sum(axis=1)-1)"
      ],
      "metadata": {
        "id": "PPH_eA3Lw7u0"
      },
      "execution_count": null,
      "outputs": []
    },
    {
      "cell_type": "code",
      "source": [
        "stats = pd.read_csv('/content/drive/MyDrive/Final Thesis/stats.csv', sep =';')"
      ],
      "metadata": {
        "id": "7GlDaGrK86ib"
      },
      "execution_count": null,
      "outputs": []
    },
    {
      "cell_type": "code",
      "source": [
        "stats.index = stats['Game Name']"
      ],
      "metadata": {
        "id": "qtkyHu3P86ib"
      },
      "execution_count": null,
      "outputs": []
    },
    {
      "cell_type": "code",
      "source": [
        "all = df.join(stats['Complexity'])"
      ],
      "metadata": {
        "id": "lc_E73LF86ib"
      },
      "execution_count": null,
      "outputs": []
    },
    {
      "cell_type": "code",
      "source": [
        "all['Index'] = (all['aspect_num']/10)*(all['rule_sum']/100)/1.5"
      ],
      "metadata": {
        "id": "8fxstgBhAfqC"
      },
      "execution_count": null,
      "outputs": []
    },
    {
      "cell_type": "code",
      "source": [
        "all['BGG'] = all['Complexity']"
      ],
      "metadata": {
        "id": "iGE6paE6zfho"
      },
      "execution_count": null,
      "outputs": []
    },
    {
      "cell_type": "code",
      "source": [
        "all = all.sort_values('Complexity', axis = 0, ascending=False)"
      ],
      "metadata": {
        "id": "Ydt2_ZipJA1q"
      },
      "execution_count": null,
      "outputs": []
    },
    {
      "cell_type": "code",
      "source": [
        "all['Game'] = all.index"
      ],
      "metadata": {
        "id": "5pAQYPkxHGPU"
      },
      "execution_count": null,
      "outputs": []
    },
    {
      "cell_type": "code",
      "source": [
        "all1 = all.sort_values('eva', axis = 0, ascending=False)"
      ],
      "metadata": {
        "id": "sk89LsXdONa8"
      },
      "execution_count": null,
      "outputs": []
    },
    {
      "cell_type": "code",
      "source": [
        "all1['index_rank'] = range(1,11)"
      ],
      "metadata": {
        "id": "8HKOyzcsOl67"
      },
      "execution_count": null,
      "outputs": []
    },
    {
      "cell_type": "code",
      "source": [
        "all1 = all1.sort_values('BGG', axis=0, ascending=False)"
      ],
      "metadata": {
        "id": "QmifxpwYOsKo"
      },
      "execution_count": null,
      "outputs": []
    },
    {
      "cell_type": "code",
      "source": [
        "all1['BGG_rank'] = range(1,11)"
      ],
      "metadata": {
        "id": "mag8P_vXO5KM"
      },
      "execution_count": null,
      "outputs": []
    },
    {
      "cell_type": "code",
      "source": [
        "all1"
      ],
      "metadata": {
        "colab": {
          "base_uri": "https://localhost:8080/",
          "height": 583
        },
        "id": "uMJp27acO4I2",
        "outputId": "a8ff5105-0bef-4464-e64e-4e47d2b5de5c"
      },
      "execution_count": null,
      "outputs": [
        {
          "output_type": "execute_result",
          "data": {
            "text/html": [
              "\n",
              "  <div id=\"df-9b54a19a-61da-4275-b6cf-cccae4e34469\">\n",
              "    <div class=\"colab-df-container\">\n",
              "      <div>\n",
              "<style scoped>\n",
              "    .dataframe tbody tr th:only-of-type {\n",
              "        vertical-align: middle;\n",
              "    }\n",
              "\n",
              "    .dataframe tbody tr th {\n",
              "        vertical-align: top;\n",
              "    }\n",
              "\n",
              "    .dataframe thead th {\n",
              "        text-align: right;\n",
              "    }\n",
              "</style>\n",
              "<table border=\"1\" class=\"dataframe\">\n",
              "  <thead>\n",
              "    <tr style=\"text-align: right;\">\n",
              "      <th></th>\n",
              "      <th>area</th>\n",
              "      <th>attack</th>\n",
              "      <th>attacker</th>\n",
              "      <th>command</th>\n",
              "      <th>control</th>\n",
              "      <th>die</th>\n",
              "      <th>end</th>\n",
              "      <th>enemy</th>\n",
              "      <th>force</th>\n",
              "      <th>infantry</th>\n",
              "      <th>leader</th>\n",
              "      <th>map</th>\n",
              "      <th>movement</th>\n",
              "      <th>point</th>\n",
              "      <th>retreat</th>\n",
              "      <th>side</th>\n",
              "      <th>supply</th>\n",
              "      <th>target</th>\n",
              "      <th>rule_sum</th>\n",
              "      <th>aspect_num</th>\n",
              "      <th>Complexity</th>\n",
              "      <th>eva</th>\n",
              "      <th>Game</th>\n",
              "      <th>Index</th>\n",
              "      <th>BGG</th>\n",
              "      <th>index_rank</th>\n",
              "      <th>BGG_rank</th>\n",
              "    </tr>\n",
              "  </thead>\n",
              "  <tbody>\n",
              "    <tr>\n",
              "      <th>Pendragon</th>\n",
              "      <td>0</td>\n",
              "      <td>76</td>\n",
              "      <td>31</td>\n",
              "      <td>113</td>\n",
              "      <td>106</td>\n",
              "      <td>120</td>\n",
              "      <td>41</td>\n",
              "      <td>81</td>\n",
              "      <td>60</td>\n",
              "      <td>73</td>\n",
              "      <td>0</td>\n",
              "      <td>41</td>\n",
              "      <td>0</td>\n",
              "      <td>0</td>\n",
              "      <td>0</td>\n",
              "      <td>0</td>\n",
              "      <td>0</td>\n",
              "      <td>65</td>\n",
              "      <td>833</td>\n",
              "      <td>11</td>\n",
              "      <td>4.45</td>\n",
              "      <td>6.108667</td>\n",
              "      <td>Pendragon</td>\n",
              "      <td>6.108667</td>\n",
              "      <td>4.45</td>\n",
              "      <td>1</td>\n",
              "      <td>1</td>\n",
              "    </tr>\n",
              "    <tr>\n",
              "      <th>Gandhi</th>\n",
              "      <td>0</td>\n",
              "      <td>49</td>\n",
              "      <td>19</td>\n",
              "      <td>0</td>\n",
              "      <td>73</td>\n",
              "      <td>117</td>\n",
              "      <td>54</td>\n",
              "      <td>0</td>\n",
              "      <td>39</td>\n",
              "      <td>0</td>\n",
              "      <td>0</td>\n",
              "      <td>29</td>\n",
              "      <td>0</td>\n",
              "      <td>0</td>\n",
              "      <td>0</td>\n",
              "      <td>0</td>\n",
              "      <td>0</td>\n",
              "      <td>18</td>\n",
              "      <td>423</td>\n",
              "      <td>8</td>\n",
              "      <td>4.14</td>\n",
              "      <td>2.256000</td>\n",
              "      <td>Gandhi</td>\n",
              "      <td>2.256000</td>\n",
              "      <td>4.14</td>\n",
              "      <td>6</td>\n",
              "      <td>2</td>\n",
              "    </tr>\n",
              "    <tr>\n",
              "      <th>Fire in the Lake</th>\n",
              "      <td>0</td>\n",
              "      <td>98</td>\n",
              "      <td>42</td>\n",
              "      <td>0</td>\n",
              "      <td>85</td>\n",
              "      <td>48</td>\n",
              "      <td>30</td>\n",
              "      <td>60</td>\n",
              "      <td>62</td>\n",
              "      <td>0</td>\n",
              "      <td>20</td>\n",
              "      <td>30</td>\n",
              "      <td>0</td>\n",
              "      <td>0</td>\n",
              "      <td>0</td>\n",
              "      <td>0</td>\n",
              "      <td>28</td>\n",
              "      <td>14</td>\n",
              "      <td>538</td>\n",
              "      <td>11</td>\n",
              "      <td>4.09</td>\n",
              "      <td>3.945333</td>\n",
              "      <td>Fire in the Lake</td>\n",
              "      <td>3.945333</td>\n",
              "      <td>4.09</td>\n",
              "      <td>4</td>\n",
              "      <td>3</td>\n",
              "    </tr>\n",
              "    <tr>\n",
              "      <th>Liberty or Death</th>\n",
              "      <td>0</td>\n",
              "      <td>16</td>\n",
              "      <td>16</td>\n",
              "      <td>148</td>\n",
              "      <td>80</td>\n",
              "      <td>45</td>\n",
              "      <td>36</td>\n",
              "      <td>29</td>\n",
              "      <td>54</td>\n",
              "      <td>0</td>\n",
              "      <td>54</td>\n",
              "      <td>29</td>\n",
              "      <td>0</td>\n",
              "      <td>0</td>\n",
              "      <td>0</td>\n",
              "      <td>48</td>\n",
              "      <td>13</td>\n",
              "      <td>0</td>\n",
              "      <td>584</td>\n",
              "      <td>12</td>\n",
              "      <td>4.07</td>\n",
              "      <td>4.672000</td>\n",
              "      <td>Liberty or Death</td>\n",
              "      <td>4.672000</td>\n",
              "      <td>4.07</td>\n",
              "      <td>3</td>\n",
              "      <td>4</td>\n",
              "    </tr>\n",
              "    <tr>\n",
              "      <th>Falling Sky</th>\n",
              "      <td>0</td>\n",
              "      <td>18</td>\n",
              "      <td>18</td>\n",
              "      <td>93</td>\n",
              "      <td>89</td>\n",
              "      <td>90</td>\n",
              "      <td>63</td>\n",
              "      <td>62</td>\n",
              "      <td>62</td>\n",
              "      <td>0</td>\n",
              "      <td>77</td>\n",
              "      <td>27</td>\n",
              "      <td>0</td>\n",
              "      <td>0</td>\n",
              "      <td>42</td>\n",
              "      <td>0</td>\n",
              "      <td>34</td>\n",
              "      <td>17</td>\n",
              "      <td>702</td>\n",
              "      <td>13</td>\n",
              "      <td>4.03</td>\n",
              "      <td>6.084000</td>\n",
              "      <td>Falling Sky</td>\n",
              "      <td>6.084000</td>\n",
              "      <td>4.03</td>\n",
              "      <td>2</td>\n",
              "      <td>5</td>\n",
              "    </tr>\n",
              "    <tr>\n",
              "      <th>A Distant Plain</th>\n",
              "      <td>0</td>\n",
              "      <td>37</td>\n",
              "      <td>0</td>\n",
              "      <td>0</td>\n",
              "      <td>45</td>\n",
              "      <td>22</td>\n",
              "      <td>25</td>\n",
              "      <td>23</td>\n",
              "      <td>29</td>\n",
              "      <td>0</td>\n",
              "      <td>0</td>\n",
              "      <td>12</td>\n",
              "      <td>0</td>\n",
              "      <td>0</td>\n",
              "      <td>0</td>\n",
              "      <td>0</td>\n",
              "      <td>24</td>\n",
              "      <td>0</td>\n",
              "      <td>242</td>\n",
              "      <td>8</td>\n",
              "      <td>3.82</td>\n",
              "      <td>1.290667</td>\n",
              "      <td>A Distant Plain</td>\n",
              "      <td>1.290667</td>\n",
              "      <td>3.82</td>\n",
              "      <td>10</td>\n",
              "      <td>6</td>\n",
              "    </tr>\n",
              "    <tr>\n",
              "      <th>Colonial Twilight</th>\n",
              "      <td>0</td>\n",
              "      <td>30</td>\n",
              "      <td>20</td>\n",
              "      <td>0</td>\n",
              "      <td>35</td>\n",
              "      <td>34</td>\n",
              "      <td>34</td>\n",
              "      <td>15</td>\n",
              "      <td>32</td>\n",
              "      <td>0</td>\n",
              "      <td>0</td>\n",
              "      <td>32</td>\n",
              "      <td>0</td>\n",
              "      <td>0</td>\n",
              "      <td>0</td>\n",
              "      <td>0</td>\n",
              "      <td>0</td>\n",
              "      <td>0</td>\n",
              "      <td>263</td>\n",
              "      <td>8</td>\n",
              "      <td>3.80</td>\n",
              "      <td>1.402667</td>\n",
              "      <td>Colonial Twilight</td>\n",
              "      <td>1.402667</td>\n",
              "      <td>3.80</td>\n",
              "      <td>9</td>\n",
              "      <td>7</td>\n",
              "    </tr>\n",
              "    <tr>\n",
              "      <th>Andean Abyss</th>\n",
              "      <td>0</td>\n",
              "      <td>42</td>\n",
              "      <td>16</td>\n",
              "      <td>0</td>\n",
              "      <td>30</td>\n",
              "      <td>19</td>\n",
              "      <td>29</td>\n",
              "      <td>24</td>\n",
              "      <td>38</td>\n",
              "      <td>0</td>\n",
              "      <td>0</td>\n",
              "      <td>20</td>\n",
              "      <td>0</td>\n",
              "      <td>0</td>\n",
              "      <td>0</td>\n",
              "      <td>0</td>\n",
              "      <td>27</td>\n",
              "      <td>18</td>\n",
              "      <td>280</td>\n",
              "      <td>10</td>\n",
              "      <td>3.78</td>\n",
              "      <td>1.866667</td>\n",
              "      <td>Andean Abyss</td>\n",
              "      <td>1.866667</td>\n",
              "      <td>3.78</td>\n",
              "      <td>7</td>\n",
              "      <td>8</td>\n",
              "    </tr>\n",
              "    <tr>\n",
              "      <th>Cuba Libre</th>\n",
              "      <td>0</td>\n",
              "      <td>45</td>\n",
              "      <td>21</td>\n",
              "      <td>0</td>\n",
              "      <td>37</td>\n",
              "      <td>18</td>\n",
              "      <td>27</td>\n",
              "      <td>23</td>\n",
              "      <td>32</td>\n",
              "      <td>0</td>\n",
              "      <td>0</td>\n",
              "      <td>12</td>\n",
              "      <td>0</td>\n",
              "      <td>0</td>\n",
              "      <td>0</td>\n",
              "      <td>0</td>\n",
              "      <td>0</td>\n",
              "      <td>21</td>\n",
              "      <td>243</td>\n",
              "      <td>9</td>\n",
              "      <td>3.55</td>\n",
              "      <td>1.458000</td>\n",
              "      <td>Cuba Libre</td>\n",
              "      <td>1.458000</td>\n",
              "      <td>3.55</td>\n",
              "      <td>8</td>\n",
              "      <td>9</td>\n",
              "    </tr>\n",
              "    <tr>\n",
              "      <th>All Bridges Burning</th>\n",
              "      <td>0</td>\n",
              "      <td>70</td>\n",
              "      <td>69</td>\n",
              "      <td>97</td>\n",
              "      <td>38</td>\n",
              "      <td>45</td>\n",
              "      <td>20</td>\n",
              "      <td>40</td>\n",
              "      <td>30</td>\n",
              "      <td>0</td>\n",
              "      <td>0</td>\n",
              "      <td>48</td>\n",
              "      <td>0</td>\n",
              "      <td>0</td>\n",
              "      <td>0</td>\n",
              "      <td>11</td>\n",
              "      <td>0</td>\n",
              "      <td>16</td>\n",
              "      <td>512</td>\n",
              "      <td>11</td>\n",
              "      <td>3.39</td>\n",
              "      <td>3.754667</td>\n",
              "      <td>All Bridges Burning</td>\n",
              "      <td>3.754667</td>\n",
              "      <td>3.39</td>\n",
              "      <td>5</td>\n",
              "      <td>10</td>\n",
              "    </tr>\n",
              "  </tbody>\n",
              "</table>\n",
              "</div>\n",
              "      <button class=\"colab-df-convert\" onclick=\"convertToInteractive('df-9b54a19a-61da-4275-b6cf-cccae4e34469')\"\n",
              "              title=\"Convert this dataframe to an interactive table.\"\n",
              "              style=\"display:none;\">\n",
              "        \n",
              "  <svg xmlns=\"http://www.w3.org/2000/svg\" height=\"24px\"viewBox=\"0 0 24 24\"\n",
              "       width=\"24px\">\n",
              "    <path d=\"M0 0h24v24H0V0z\" fill=\"none\"/>\n",
              "    <path d=\"M18.56 5.44l.94 2.06.94-2.06 2.06-.94-2.06-.94-.94-2.06-.94 2.06-2.06.94zm-11 1L8.5 8.5l.94-2.06 2.06-.94-2.06-.94L8.5 2.5l-.94 2.06-2.06.94zm10 10l.94 2.06.94-2.06 2.06-.94-2.06-.94-.94-2.06-.94 2.06-2.06.94z\"/><path d=\"M17.41 7.96l-1.37-1.37c-.4-.4-.92-.59-1.43-.59-.52 0-1.04.2-1.43.59L10.3 9.45l-7.72 7.72c-.78.78-.78 2.05 0 2.83L4 21.41c.39.39.9.59 1.41.59.51 0 1.02-.2 1.41-.59l7.78-7.78 2.81-2.81c.8-.78.8-2.07 0-2.86zM5.41 20L4 18.59l7.72-7.72 1.47 1.35L5.41 20z\"/>\n",
              "  </svg>\n",
              "      </button>\n",
              "      \n",
              "  <style>\n",
              "    .colab-df-container {\n",
              "      display:flex;\n",
              "      flex-wrap:wrap;\n",
              "      gap: 12px;\n",
              "    }\n",
              "\n",
              "    .colab-df-convert {\n",
              "      background-color: #E8F0FE;\n",
              "      border: none;\n",
              "      border-radius: 50%;\n",
              "      cursor: pointer;\n",
              "      display: none;\n",
              "      fill: #1967D2;\n",
              "      height: 32px;\n",
              "      padding: 0 0 0 0;\n",
              "      width: 32px;\n",
              "    }\n",
              "\n",
              "    .colab-df-convert:hover {\n",
              "      background-color: #E2EBFA;\n",
              "      box-shadow: 0px 1px 2px rgba(60, 64, 67, 0.3), 0px 1px 3px 1px rgba(60, 64, 67, 0.15);\n",
              "      fill: #174EA6;\n",
              "    }\n",
              "\n",
              "    [theme=dark] .colab-df-convert {\n",
              "      background-color: #3B4455;\n",
              "      fill: #D2E3FC;\n",
              "    }\n",
              "\n",
              "    [theme=dark] .colab-df-convert:hover {\n",
              "      background-color: #434B5C;\n",
              "      box-shadow: 0px 1px 3px 1px rgba(0, 0, 0, 0.15);\n",
              "      filter: drop-shadow(0px 1px 2px rgba(0, 0, 0, 0.3));\n",
              "      fill: #FFFFFF;\n",
              "    }\n",
              "  </style>\n",
              "\n",
              "      <script>\n",
              "        const buttonEl =\n",
              "          document.querySelector('#df-9b54a19a-61da-4275-b6cf-cccae4e34469 button.colab-df-convert');\n",
              "        buttonEl.style.display =\n",
              "          google.colab.kernel.accessAllowed ? 'block' : 'none';\n",
              "\n",
              "        async function convertToInteractive(key) {\n",
              "          const element = document.querySelector('#df-9b54a19a-61da-4275-b6cf-cccae4e34469');\n",
              "          const dataTable =\n",
              "            await google.colab.kernel.invokeFunction('convertToInteractive',\n",
              "                                                     [key], {});\n",
              "          if (!dataTable) return;\n",
              "\n",
              "          const docLinkHtml = 'Like what you see? Visit the ' +\n",
              "            '<a target=\"_blank\" href=https://colab.research.google.com/notebooks/data_table.ipynb>data table notebook</a>'\n",
              "            + ' to learn more about interactive tables.';\n",
              "          element.innerHTML = '';\n",
              "          dataTable['output_type'] = 'display_data';\n",
              "          await google.colab.output.renderOutput(dataTable, element);\n",
              "          const docLink = document.createElement('div');\n",
              "          docLink.innerHTML = docLinkHtml;\n",
              "          element.appendChild(docLink);\n",
              "        }\n",
              "      </script>\n",
              "    </div>\n",
              "  </div>\n",
              "  "
            ],
            "text/plain": [
              "                     area  attack  attacker  ...   BGG  index_rank  BGG_rank\n",
              "Pendragon               0      76        31  ...  4.45           1         1\n",
              "Gandhi                  0      49        19  ...  4.14           6         2\n",
              "Fire in the Lake        0      98        42  ...  4.09           4         3\n",
              "Liberty or Death        0      16        16  ...  4.07           3         4\n",
              "Falling Sky             0      18        18  ...  4.03           2         5\n",
              "A Distant Plain         0      37         0  ...  3.82          10         6\n",
              "Colonial Twilight       0      30        20  ...  3.80           9         7\n",
              "Andean Abyss            0      42        16  ...  3.78           7         8\n",
              "Cuba Libre              0      45        21  ...  3.55           8         9\n",
              "All Bridges Burning     0      70        69  ...  3.39           5        10\n",
              "\n",
              "[10 rows x 27 columns]"
            ]
          },
          "metadata": {},
          "execution_count": 136
        }
      ]
    },
    {
      "cell_type": "code",
      "source": [
        "from scipy.stats import kendalltau\n",
        "kendalltau(all1['BGG_rank'],all1['index_rank'])"
      ],
      "metadata": {
        "colab": {
          "base_uri": "https://localhost:8080/"
        },
        "id": "kZSNRQegPK19",
        "outputId": "cfac8446-031f-42cf-f2cc-a45b5720269e"
      },
      "execution_count": null,
      "outputs": [
        {
          "output_type": "execute_result",
          "data": {
            "text/plain": [
              "KendalltauResult(correlation=0.28888888888888886, pvalue=0.2912483465608466)"
            ]
          },
          "metadata": {},
          "execution_count": 134
        }
      ]
    },
    {
      "cell_type": "code",
      "source": [
        "import math\n",
        "def rbo(list1, list2, p=0.9):\n",
        "   # tail recursive helper function\n",
        "   def helper(ret, i, d):\n",
        "       l1 = set(list1[:i]) if i < len(list1) else set(list1)\n",
        "       l2 = set(list2[:i]) if i < len(list2) else set(list2)\n",
        "       a_d = len(l1.intersection(l2))/i\n",
        "       term = math.pow(p, i) * a_d\n",
        "       if d == i:\n",
        "           return ret + term\n",
        "       return helper(ret + term, i + 1, d)\n",
        "   k = max(len(list1), len(list2))\n",
        "   x_k = len(set(list1).intersection(set(list2)))\n",
        "   summation = helper(0, 1, k)\n",
        "   return ((float(x_k)/k) * math.pow(p, k)) + ((1-p)/p * summation)"
      ],
      "metadata": {
        "id": "rjwpfCr3SWtS"
      },
      "execution_count": null,
      "outputs": []
    },
    {
      "cell_type": "code",
      "source": [
        "!pip install rbo"
      ],
      "metadata": {
        "colab": {
          "base_uri": "https://localhost:8080/"
        },
        "id": "FkygZTH7WI9T",
        "outputId": "7a655166-d7b6-44da-a8d7-382cc11ff247"
      },
      "execution_count": null,
      "outputs": [
        {
          "output_type": "stream",
          "name": "stdout",
          "text": [
            "Collecting rbo\n",
            "  Downloading rbo-0.1.2-py3-none-any.whl (7.5 kB)\n",
            "Requirement already satisfied: numpy<2.0,>=1.18 in /usr/local/lib/python3.7/dist-packages (from rbo) (1.19.5)\n",
            "Installing collected packages: rbo\n",
            "Successfully installed rbo-0.1.2\n"
          ]
        }
      ]
    },
    {
      "cell_type": "code",
      "source": [
        "import rbo\n",
        "rbo.RankingSimilarity(list(all1['index_rank']), list(all1['BGG_rank'])).rbo()"
      ],
      "metadata": {
        "colab": {
          "base_uri": "https://localhost:8080/"
        },
        "id": "o22DkKTkWLXN",
        "outputId": "054e7456-e2d5-42e2-cdb4-346990431092"
      },
      "execution_count": null,
      "outputs": [
        {
          "output_type": "execute_result",
          "data": {
            "text/plain": [
              "0.756984126984127"
            ]
          },
          "metadata": {},
          "execution_count": 141
        }
      ]
    },
    {
      "cell_type": "code",
      "source": [
        "bar =all[['Index', 'BGG', 'Game']]"
      ],
      "metadata": {
        "id": "rOl7rnEoHn30"
      },
      "execution_count": null,
      "outputs": []
    },
    {
      "cell_type": "code",
      "source": [
        "bar = bar.melt(id_vars='Game').rename(columns=str.title)"
      ],
      "metadata": {
        "id": "fglsCBA5BAHM"
      },
      "execution_count": null,
      "outputs": []
    },
    {
      "cell_type": "code",
      "source": [
        "fig, ax1 = plt.subplots(figsize=(10, 10))\n",
        "sns.barplot(y='Game', x='Value', hue='Variable', data=bar, ax=ax1)\n",
        "sns.despine(fig)\n",
        "plt.savefig('barplot.eps', bbox_inches='tight', pad_inches=0.0)"
      ],
      "metadata": {
        "colab": {
          "base_uri": "https://localhost:8080/",
          "height": 643
        },
        "id": "ttGf6Zp9H01y",
        "outputId": "12032959-0e73-4d36-e0e1-9a032ac780f3"
      },
      "execution_count": null,
      "outputs": [
        {
          "output_type": "stream",
          "name": "stderr",
          "text": [
            "The PostScript backend does not support transparency; partially transparent artists will be rendered opaque.\n",
            "The PostScript backend does not support transparency; partially transparent artists will be rendered opaque.\n"
          ]
        },
        {
          "output_type": "display_data",
          "data": {
            "image/png": "[encoded data removed]",
            "text/plain": [
              "<Figure size 720x720 with 1 Axes>"
            ]
          },
          "metadata": {
            "needs_background": "light"
          }
        }
      ]
    },
    {
      "cell_type": "code",
      "source": [
        "df = df.T.sort_values(by='Pendragon', axis = 0, ascending=False)"
      ],
      "metadata": {
        "id": "8gMQzDmfKDhg"
      },
      "execution_count": null,
      "outputs": []
    },
    {
      "cell_type": "code",
      "source": [
        "dff = df.drop(['aspect_num', 'rule_sum'])"
      ],
      "metadata": {
        "id": "CQnmiCNMLCdE"
      },
      "execution_count": null,
      "outputs": []
    },
    {
      "cell_type": "code",
      "source": [
        "dff.index"
      ],
      "metadata": {
        "colab": {
          "base_uri": "https://localhost:8080/"
        },
        "id": "oRlcRsPet0hC",
        "outputId": "a929a0c9-bf52-4f1b-b6cd-41596fd0ddd6"
      },
      "execution_count": null,
      "outputs": [
        {
          "output_type": "execute_result",
          "data": {
            "text/plain": [
              "Index(['die', 'command', 'control', 'enemy', 'attack', 'infantry', 'target',\n",
              "       'force', 'end', 'map', 'attacker', 'side', 'supply', 'area', 'retreat',\n",
              "       'point', 'movement', 'leader'],\n",
              "      dtype='object')"
            ]
          },
          "metadata": {},
          "execution_count": 101
        }
      ]
    },
    {
      "cell_type": "code",
      "source": [
        "new_order = ['die', 'command', 'control', 'enemy', 'attack', 'infantry',\n",
        "       'target', 'force', 'end', 'map', 'attacker', 'supply', 'leader', \n",
        "       'side', 'retreat', 'area', 'point', 'movement']"
      ],
      "metadata": {
        "id": "IRDLD-nGt4XL"
      },
      "execution_count": null,
      "outputs": []
    },
    {
      "cell_type": "code",
      "source": [
        "dff = dff.reindex(new_order)"
      ],
      "metadata": {
        "id": "xpPsvlnYupUh"
      },
      "execution_count": null,
      "outputs": []
    },
    {
      "cell_type": "code",
      "source": [
        "dff.index = ['Die', 'Command', 'Control', 'Enemy', 'Attack', 'Infantry',\n",
        "       'Target', 'Force', 'End', 'Map', 'Attacker', 'Supply', 'Leader', \n",
        "       'Side', 'Retreat', 'Area', 'Point', 'Movement']"
      ],
      "metadata": {
        "id": "S1ze1cIbwr0J"
      },
      "execution_count": null,
      "outputs": []
    },
    {
      "cell_type": "code",
      "source": [
        "dff['sum'] = dff.sum(axis=1)"
      ],
      "metadata": {
        "id": "KGzixgBl0PPO"
      },
      "execution_count": null,
      "outputs": []
    },
    {
      "cell_type": "code",
      "source": [
        "mm =dff.sort_values('sum', axis = 0, ascending=False)"
      ],
      "metadata": {
        "id": "uPebqRYy0eBE"
      },
      "execution_count": null,
      "outputs": []
    },
    {
      "cell_type": "code",
      "source": [
        "fig, ax = plt.subplots(figsize=(15,10))\n",
        "sns.heatmap(mm.drop('sum', axis = 1), annot=True, annot_kws={\"size\": 10}, fmt='g', linewidths=.5, cmap=\"YlGnBu\")\n",
        "plt.figure\n",
        "plt.savefig('heatmap.eps', bbox_inches='tight', pad_inches=0.0)\n",
        "#plt.savefig('df.eps', bbox_inches='tight', pad_inches=0.0)"
      ],
      "metadata": {
        "colab": {
          "base_uri": "https://localhost:8080/",
          "height": 677
        },
        "id": "VTQrFSgI-PM-",
        "outputId": "ec5f5ea6-8988-4f57-ca1e-469e43addfd5"
      },
      "execution_count": null,
      "outputs": [
        {
          "output_type": "display_data",
          "data": {
            "image/png": "[encoded data removed]",
            "text/plain": [
              "<Figure size 1080x720 with 2 Axes>"
            ]
          },
          "metadata": {
            "needs_background": "light"
          }
        }
      ]
    }
  ]
}